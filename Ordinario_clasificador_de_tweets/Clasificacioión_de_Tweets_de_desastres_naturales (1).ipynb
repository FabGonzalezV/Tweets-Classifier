{
  "cells": [
    {
      "cell_type": "markdown",
      "metadata": {
        "id": "mBgAVTRkUatZ"
      },
      "source": [
        "# Clasificación de Tweets de desastres naturales"
      ]
    },
    {
      "cell_type": "markdown",
      "metadata": {
        "id": "eXC5vpYsUati"
      },
      "source": [
        "## 0. Imports\n"
      ]
    },
    {
      "cell_type": "markdown",
      "metadata": {
        "id": "3G-HTMYOVX1e"
      },
      "source": [
        "agrego  bibliotecas para el manejo de graficas y recusos del sistema"
      ]
    },
    {
      "cell_type": "code",
      "execution_count": 198,
      "metadata": {
        "id": "Tygwe4POUatj"
      },
      "outputs": [],
      "source": [
        "import matplotlib.pyplot as plt\n",
        "plt.style.use('ggplot')\n",
        "import numpy as np\n",
        "import os\n",
        " \n",
        "from matplotlib.colors import ListedColormap"
      ]
    },
    {
      "cell_type": "markdown",
      "metadata": {
        "id": "RT1ABqO0Uatl"
      },
      "source": [
        "## 1. Lectura del conjunto de datos"
      ]
    },
    {
      "cell_type": "markdown",
      "metadata": {
        "id": "MYTj5rWeVesG"
      },
      "source": [
        "El conjunto de datos viene dividido en el train y el test, por esta razón se debe leer en variables diferentes "
      ]
    },
    {
      "cell_type": "code",
      "execution_count": 199,
      "metadata": {
        "colab": {
          "base_uri": "https://localhost:8080/",
          "height": 424
        },
        "id": "b2xyEIO2Uatm",
        "outputId": "b5c5be81-7864-41be-d5ff-230840ff86e5"
      },
      "outputs": [
        {
          "output_type": "execute_result",
          "data": {
            "text/html": [
              "\n",
              "  <div id=\"df-bb2d8441-0a74-4091-8c86-fecbb381492f\">\n",
              "    <div class=\"colab-df-container\">\n",
              "      <div>\n",
              "<style scoped>\n",
              "    .dataframe tbody tr th:only-of-type {\n",
              "        vertical-align: middle;\n",
              "    }\n",
              "\n",
              "    .dataframe tbody tr th {\n",
              "        vertical-align: top;\n",
              "    }\n",
              "\n",
              "    .dataframe thead th {\n",
              "        text-align: right;\n",
              "    }\n",
              "</style>\n",
              "<table border=\"1\" class=\"dataframe\">\n",
              "  <thead>\n",
              "    <tr style=\"text-align: right;\">\n",
              "      <th></th>\n",
              "      <th>id</th>\n",
              "      <th>keyword</th>\n",
              "      <th>location</th>\n",
              "      <th>text</th>\n",
              "      <th>target</th>\n",
              "    </tr>\n",
              "  </thead>\n",
              "  <tbody>\n",
              "    <tr>\n",
              "      <th>0</th>\n",
              "      <td>1</td>\n",
              "      <td>NaN</td>\n",
              "      <td>NaN</td>\n",
              "      <td>Our Deeds are the Reason of this #earthquake M...</td>\n",
              "      <td>1</td>\n",
              "    </tr>\n",
              "    <tr>\n",
              "      <th>1</th>\n",
              "      <td>4</td>\n",
              "      <td>NaN</td>\n",
              "      <td>NaN</td>\n",
              "      <td>Forest fire near La Ronge Sask. Canada</td>\n",
              "      <td>1</td>\n",
              "    </tr>\n",
              "    <tr>\n",
              "      <th>2</th>\n",
              "      <td>5</td>\n",
              "      <td>NaN</td>\n",
              "      <td>NaN</td>\n",
              "      <td>All residents asked to 'shelter in place' are ...</td>\n",
              "      <td>1</td>\n",
              "    </tr>\n",
              "    <tr>\n",
              "      <th>3</th>\n",
              "      <td>6</td>\n",
              "      <td>NaN</td>\n",
              "      <td>NaN</td>\n",
              "      <td>13,000 people receive #wildfires evacuation or...</td>\n",
              "      <td>1</td>\n",
              "    </tr>\n",
              "    <tr>\n",
              "      <th>4</th>\n",
              "      <td>7</td>\n",
              "      <td>NaN</td>\n",
              "      <td>NaN</td>\n",
              "      <td>Just got sent this photo from Ruby #Alaska as ...</td>\n",
              "      <td>1</td>\n",
              "    </tr>\n",
              "    <tr>\n",
              "      <th>...</th>\n",
              "      <td>...</td>\n",
              "      <td>...</td>\n",
              "      <td>...</td>\n",
              "      <td>...</td>\n",
              "      <td>...</td>\n",
              "    </tr>\n",
              "    <tr>\n",
              "      <th>7608</th>\n",
              "      <td>10869</td>\n",
              "      <td>NaN</td>\n",
              "      <td>NaN</td>\n",
              "      <td>Two giant cranes holding a bridge collapse int...</td>\n",
              "      <td>1</td>\n",
              "    </tr>\n",
              "    <tr>\n",
              "      <th>7609</th>\n",
              "      <td>10870</td>\n",
              "      <td>NaN</td>\n",
              "      <td>NaN</td>\n",
              "      <td>@aria_ahrary @TheTawniest The out of control w...</td>\n",
              "      <td>1</td>\n",
              "    </tr>\n",
              "    <tr>\n",
              "      <th>7610</th>\n",
              "      <td>10871</td>\n",
              "      <td>NaN</td>\n",
              "      <td>NaN</td>\n",
              "      <td>M1.94 [01:04 UTC]?5km S of Volcano Hawaii. htt...</td>\n",
              "      <td>1</td>\n",
              "    </tr>\n",
              "    <tr>\n",
              "      <th>7611</th>\n",
              "      <td>10872</td>\n",
              "      <td>NaN</td>\n",
              "      <td>NaN</td>\n",
              "      <td>Police investigating after an e-bike collided ...</td>\n",
              "      <td>1</td>\n",
              "    </tr>\n",
              "    <tr>\n",
              "      <th>7612</th>\n",
              "      <td>10873</td>\n",
              "      <td>NaN</td>\n",
              "      <td>NaN</td>\n",
              "      <td>The Latest: More Homes Razed by Northern Calif...</td>\n",
              "      <td>1</td>\n",
              "    </tr>\n",
              "  </tbody>\n",
              "</table>\n",
              "<p>7613 rows × 5 columns</p>\n",
              "</div>\n",
              "      <button class=\"colab-df-convert\" onclick=\"convertToInteractive('df-bb2d8441-0a74-4091-8c86-fecbb381492f')\"\n",
              "              title=\"Convert this dataframe to an interactive table.\"\n",
              "              style=\"display:none;\">\n",
              "        \n",
              "  <svg xmlns=\"http://www.w3.org/2000/svg\" height=\"24px\"viewBox=\"0 0 24 24\"\n",
              "       width=\"24px\">\n",
              "    <path d=\"M0 0h24v24H0V0z\" fill=\"none\"/>\n",
              "    <path d=\"M18.56 5.44l.94 2.06.94-2.06 2.06-.94-2.06-.94-.94-2.06-.94 2.06-2.06.94zm-11 1L8.5 8.5l.94-2.06 2.06-.94-2.06-.94L8.5 2.5l-.94 2.06-2.06.94zm10 10l.94 2.06.94-2.06 2.06-.94-2.06-.94-.94-2.06-.94 2.06-2.06.94z\"/><path d=\"M17.41 7.96l-1.37-1.37c-.4-.4-.92-.59-1.43-.59-.52 0-1.04.2-1.43.59L10.3 9.45l-7.72 7.72c-.78.78-.78 2.05 0 2.83L4 21.41c.39.39.9.59 1.41.59.51 0 1.02-.2 1.41-.59l7.78-7.78 2.81-2.81c.8-.78.8-2.07 0-2.86zM5.41 20L4 18.59l7.72-7.72 1.47 1.35L5.41 20z\"/>\n",
              "  </svg>\n",
              "      </button>\n",
              "      \n",
              "  <style>\n",
              "    .colab-df-container {\n",
              "      display:flex;\n",
              "      flex-wrap:wrap;\n",
              "      gap: 12px;\n",
              "    }\n",
              "\n",
              "    .colab-df-convert {\n",
              "      background-color: #E8F0FE;\n",
              "      border: none;\n",
              "      border-radius: 50%;\n",
              "      cursor: pointer;\n",
              "      display: none;\n",
              "      fill: #1967D2;\n",
              "      height: 32px;\n",
              "      padding: 0 0 0 0;\n",
              "      width: 32px;\n",
              "    }\n",
              "\n",
              "    .colab-df-convert:hover {\n",
              "      background-color: #E2EBFA;\n",
              "      box-shadow: 0px 1px 2px rgba(60, 64, 67, 0.3), 0px 1px 3px 1px rgba(60, 64, 67, 0.15);\n",
              "      fill: #174EA6;\n",
              "    }\n",
              "\n",
              "    [theme=dark] .colab-df-convert {\n",
              "      background-color: #3B4455;\n",
              "      fill: #D2E3FC;\n",
              "    }\n",
              "\n",
              "    [theme=dark] .colab-df-convert:hover {\n",
              "      background-color: #434B5C;\n",
              "      box-shadow: 0px 1px 3px 1px rgba(0, 0, 0, 0.15);\n",
              "      filter: drop-shadow(0px 1px 2px rgba(0, 0, 0, 0.3));\n",
              "      fill: #FFFFFF;\n",
              "    }\n",
              "  </style>\n",
              "\n",
              "      <script>\n",
              "        const buttonEl =\n",
              "          document.querySelector('#df-bb2d8441-0a74-4091-8c86-fecbb381492f button.colab-df-convert');\n",
              "        buttonEl.style.display =\n",
              "          google.colab.kernel.accessAllowed ? 'block' : 'none';\n",
              "\n",
              "        async function convertToInteractive(key) {\n",
              "          const element = document.querySelector('#df-bb2d8441-0a74-4091-8c86-fecbb381492f');\n",
              "          const dataTable =\n",
              "            await google.colab.kernel.invokeFunction('convertToInteractive',\n",
              "                                                     [key], {});\n",
              "          if (!dataTable) return;\n",
              "\n",
              "          const docLinkHtml = 'Like what you see? Visit the ' +\n",
              "            '<a target=\"_blank\" href=https://colab.research.google.com/notebooks/data_table.ipynb>data table notebook</a>'\n",
              "            + ' to learn more about interactive tables.';\n",
              "          element.innerHTML = '';\n",
              "          dataTable['output_type'] = 'display_data';\n",
              "          await google.colab.output.renderOutput(dataTable, element);\n",
              "          const docLink = document.createElement('div');\n",
              "          docLink.innerHTML = docLinkHtml;\n",
              "          element.appendChild(docLink);\n",
              "        }\n",
              "      </script>\n",
              "    </div>\n",
              "  </div>\n",
              "  "
            ],
            "text/plain": [
              "         id keyword  ...                                               text target\n",
              "0         1     NaN  ...  Our Deeds are the Reason of this #earthquake M...      1\n",
              "1         4     NaN  ...             Forest fire near La Ronge Sask. Canada      1\n",
              "2         5     NaN  ...  All residents asked to 'shelter in place' are ...      1\n",
              "3         6     NaN  ...  13,000 people receive #wildfires evacuation or...      1\n",
              "4         7     NaN  ...  Just got sent this photo from Ruby #Alaska as ...      1\n",
              "...     ...     ...  ...                                                ...    ...\n",
              "7608  10869     NaN  ...  Two giant cranes holding a bridge collapse int...      1\n",
              "7609  10870     NaN  ...  @aria_ahrary @TheTawniest The out of control w...      1\n",
              "7610  10871     NaN  ...  M1.94 [01:04 UTC]?5km S of Volcano Hawaii. htt...      1\n",
              "7611  10872     NaN  ...  Police investigating after an e-bike collided ...      1\n",
              "7612  10873     NaN  ...  The Latest: More Homes Razed by Northern Calif...      1\n",
              "\n",
              "[7613 rows x 5 columns]"
            ]
          },
          "metadata": {},
          "execution_count": 199
        }
      ],
      "source": [
        "import pandas as pd\n",
        "\n",
        "X_train = pd.read_csv('train.csv')\n",
        "X_test = pd.read_csv('test.csv')\n",
        "text = pd.read_csv('train.csv')\n",
        "X_train"
      ]
    },
    {
      "cell_type": "code",
      "execution_count": 200,
      "metadata": {
        "colab": {
          "base_uri": "https://localhost:8080/",
          "height": 424
        },
        "id": "6vD7f0b9Uatn",
        "outputId": "0b405225-5251-4af6-98ec-a9a570eabbb9"
      },
      "outputs": [
        {
          "output_type": "execute_result",
          "data": {
            "text/html": [
              "\n",
              "  <div id=\"df-3fb42aec-e0d2-45b4-af4e-3ac5df86409d\">\n",
              "    <div class=\"colab-df-container\">\n",
              "      <div>\n",
              "<style scoped>\n",
              "    .dataframe tbody tr th:only-of-type {\n",
              "        vertical-align: middle;\n",
              "    }\n",
              "\n",
              "    .dataframe tbody tr th {\n",
              "        vertical-align: top;\n",
              "    }\n",
              "\n",
              "    .dataframe thead th {\n",
              "        text-align: right;\n",
              "    }\n",
              "</style>\n",
              "<table border=\"1\" class=\"dataframe\">\n",
              "  <thead>\n",
              "    <tr style=\"text-align: right;\">\n",
              "      <th></th>\n",
              "      <th>id</th>\n",
              "      <th>keyword</th>\n",
              "      <th>location</th>\n",
              "      <th>text</th>\n",
              "    </tr>\n",
              "  </thead>\n",
              "  <tbody>\n",
              "    <tr>\n",
              "      <th>0</th>\n",
              "      <td>0</td>\n",
              "      <td>NaN</td>\n",
              "      <td>NaN</td>\n",
              "      <td>Just happened a terrible car crash</td>\n",
              "    </tr>\n",
              "    <tr>\n",
              "      <th>1</th>\n",
              "      <td>2</td>\n",
              "      <td>NaN</td>\n",
              "      <td>NaN</td>\n",
              "      <td>Heard about #earthquake is different cities, s...</td>\n",
              "    </tr>\n",
              "    <tr>\n",
              "      <th>2</th>\n",
              "      <td>3</td>\n",
              "      <td>NaN</td>\n",
              "      <td>NaN</td>\n",
              "      <td>there is a forest fire at spot pond, geese are...</td>\n",
              "    </tr>\n",
              "    <tr>\n",
              "      <th>3</th>\n",
              "      <td>9</td>\n",
              "      <td>NaN</td>\n",
              "      <td>NaN</td>\n",
              "      <td>Apocalypse lighting. #Spokane #wildfires</td>\n",
              "    </tr>\n",
              "    <tr>\n",
              "      <th>4</th>\n",
              "      <td>11</td>\n",
              "      <td>NaN</td>\n",
              "      <td>NaN</td>\n",
              "      <td>Typhoon Soudelor kills 28 in China and Taiwan</td>\n",
              "    </tr>\n",
              "    <tr>\n",
              "      <th>...</th>\n",
              "      <td>...</td>\n",
              "      <td>...</td>\n",
              "      <td>...</td>\n",
              "      <td>...</td>\n",
              "    </tr>\n",
              "    <tr>\n",
              "      <th>3258</th>\n",
              "      <td>10861</td>\n",
              "      <td>NaN</td>\n",
              "      <td>NaN</td>\n",
              "      <td>EARTHQUAKE SAFETY LOS ANGELES ÛÒ SAFETY FASTE...</td>\n",
              "    </tr>\n",
              "    <tr>\n",
              "      <th>3259</th>\n",
              "      <td>10865</td>\n",
              "      <td>NaN</td>\n",
              "      <td>NaN</td>\n",
              "      <td>Storm in RI worse than last hurricane. My city...</td>\n",
              "    </tr>\n",
              "    <tr>\n",
              "      <th>3260</th>\n",
              "      <td>10868</td>\n",
              "      <td>NaN</td>\n",
              "      <td>NaN</td>\n",
              "      <td>Green Line derailment in Chicago http://t.co/U...</td>\n",
              "    </tr>\n",
              "    <tr>\n",
              "      <th>3261</th>\n",
              "      <td>10874</td>\n",
              "      <td>NaN</td>\n",
              "      <td>NaN</td>\n",
              "      <td>MEG issues Hazardous Weather Outlook (HWO) htt...</td>\n",
              "    </tr>\n",
              "    <tr>\n",
              "      <th>3262</th>\n",
              "      <td>10875</td>\n",
              "      <td>NaN</td>\n",
              "      <td>NaN</td>\n",
              "      <td>#CityofCalgary has activated its Municipal Eme...</td>\n",
              "    </tr>\n",
              "  </tbody>\n",
              "</table>\n",
              "<p>3263 rows × 4 columns</p>\n",
              "</div>\n",
              "      <button class=\"colab-df-convert\" onclick=\"convertToInteractive('df-3fb42aec-e0d2-45b4-af4e-3ac5df86409d')\"\n",
              "              title=\"Convert this dataframe to an interactive table.\"\n",
              "              style=\"display:none;\">\n",
              "        \n",
              "  <svg xmlns=\"http://www.w3.org/2000/svg\" height=\"24px\"viewBox=\"0 0 24 24\"\n",
              "       width=\"24px\">\n",
              "    <path d=\"M0 0h24v24H0V0z\" fill=\"none\"/>\n",
              "    <path d=\"M18.56 5.44l.94 2.06.94-2.06 2.06-.94-2.06-.94-.94-2.06-.94 2.06-2.06.94zm-11 1L8.5 8.5l.94-2.06 2.06-.94-2.06-.94L8.5 2.5l-.94 2.06-2.06.94zm10 10l.94 2.06.94-2.06 2.06-.94-2.06-.94-.94-2.06-.94 2.06-2.06.94z\"/><path d=\"M17.41 7.96l-1.37-1.37c-.4-.4-.92-.59-1.43-.59-.52 0-1.04.2-1.43.59L10.3 9.45l-7.72 7.72c-.78.78-.78 2.05 0 2.83L4 21.41c.39.39.9.59 1.41.59.51 0 1.02-.2 1.41-.59l7.78-7.78 2.81-2.81c.8-.78.8-2.07 0-2.86zM5.41 20L4 18.59l7.72-7.72 1.47 1.35L5.41 20z\"/>\n",
              "  </svg>\n",
              "      </button>\n",
              "      \n",
              "  <style>\n",
              "    .colab-df-container {\n",
              "      display:flex;\n",
              "      flex-wrap:wrap;\n",
              "      gap: 12px;\n",
              "    }\n",
              "\n",
              "    .colab-df-convert {\n",
              "      background-color: #E8F0FE;\n",
              "      border: none;\n",
              "      border-radius: 50%;\n",
              "      cursor: pointer;\n",
              "      display: none;\n",
              "      fill: #1967D2;\n",
              "      height: 32px;\n",
              "      padding: 0 0 0 0;\n",
              "      width: 32px;\n",
              "    }\n",
              "\n",
              "    .colab-df-convert:hover {\n",
              "      background-color: #E2EBFA;\n",
              "      box-shadow: 0px 1px 2px rgba(60, 64, 67, 0.3), 0px 1px 3px 1px rgba(60, 64, 67, 0.15);\n",
              "      fill: #174EA6;\n",
              "    }\n",
              "\n",
              "    [theme=dark] .colab-df-convert {\n",
              "      background-color: #3B4455;\n",
              "      fill: #D2E3FC;\n",
              "    }\n",
              "\n",
              "    [theme=dark] .colab-df-convert:hover {\n",
              "      background-color: #434B5C;\n",
              "      box-shadow: 0px 1px 3px 1px rgba(0, 0, 0, 0.15);\n",
              "      filter: drop-shadow(0px 1px 2px rgba(0, 0, 0, 0.3));\n",
              "      fill: #FFFFFF;\n",
              "    }\n",
              "  </style>\n",
              "\n",
              "      <script>\n",
              "        const buttonEl =\n",
              "          document.querySelector('#df-3fb42aec-e0d2-45b4-af4e-3ac5df86409d button.colab-df-convert');\n",
              "        buttonEl.style.display =\n",
              "          google.colab.kernel.accessAllowed ? 'block' : 'none';\n",
              "\n",
              "        async function convertToInteractive(key) {\n",
              "          const element = document.querySelector('#df-3fb42aec-e0d2-45b4-af4e-3ac5df86409d');\n",
              "          const dataTable =\n",
              "            await google.colab.kernel.invokeFunction('convertToInteractive',\n",
              "                                                     [key], {});\n",
              "          if (!dataTable) return;\n",
              "\n",
              "          const docLinkHtml = 'Like what you see? Visit the ' +\n",
              "            '<a target=\"_blank\" href=https://colab.research.google.com/notebooks/data_table.ipynb>data table notebook</a>'\n",
              "            + ' to learn more about interactive tables.';\n",
              "          element.innerHTML = '';\n",
              "          dataTable['output_type'] = 'display_data';\n",
              "          await google.colab.output.renderOutput(dataTable, element);\n",
              "          const docLink = document.createElement('div');\n",
              "          docLink.innerHTML = docLinkHtml;\n",
              "          element.appendChild(docLink);\n",
              "        }\n",
              "      </script>\n",
              "    </div>\n",
              "  </div>\n",
              "  "
            ],
            "text/plain": [
              "         id keyword location                                               text\n",
              "0         0     NaN      NaN                 Just happened a terrible car crash\n",
              "1         2     NaN      NaN  Heard about #earthquake is different cities, s...\n",
              "2         3     NaN      NaN  there is a forest fire at spot pond, geese are...\n",
              "3         9     NaN      NaN           Apocalypse lighting. #Spokane #wildfires\n",
              "4        11     NaN      NaN      Typhoon Soudelor kills 28 in China and Taiwan\n",
              "...     ...     ...      ...                                                ...\n",
              "3258  10861     NaN      NaN  EARTHQUAKE SAFETY LOS ANGELES ÛÒ SAFETY FASTE...\n",
              "3259  10865     NaN      NaN  Storm in RI worse than last hurricane. My city...\n",
              "3260  10868     NaN      NaN  Green Line derailment in Chicago http://t.co/U...\n",
              "3261  10874     NaN      NaN  MEG issues Hazardous Weather Outlook (HWO) htt...\n",
              "3262  10875     NaN      NaN  #CityofCalgary has activated its Municipal Eme...\n",
              "\n",
              "[3263 rows x 4 columns]"
            ]
          },
          "metadata": {},
          "execution_count": 200
        }
      ],
      "source": [
        "X_test"
      ]
    },
    {
      "cell_type": "markdown",
      "metadata": {
        "id": "4IASYQkiUato"
      },
      "source": [
        "## 2. Visualización del conjunto de datos"
      ]
    },
    {
      "cell_type": "code",
      "execution_count": 201,
      "metadata": {
        "colab": {
          "base_uri": "https://localhost:8080/"
        },
        "id": "HEansrtQUatp",
        "outputId": "a9dfcc40-5993-463c-f9f3-be0d33479769"
      },
      "outputs": [
        {
          "output_type": "stream",
          "name": "stdout",
          "text": [
            "Tamaño del Train:  7613\n",
            "Tamaño del Test:  3263\n"
          ]
        }
      ],
      "source": [
        "print(\"Tamaño del Train: \", len(X_train))\n",
        "print(\"Tamaño del Test: \", len(X_test))\n",
        " \n"
      ]
    },
    {
      "cell_type": "code",
      "source": [
        ""
      ],
      "metadata": {
        "id": "eXT0xqaqOM-S"
      },
      "execution_count": 201,
      "outputs": []
    },
    {
      "cell_type": "code",
      "execution_count": 202,
      "metadata": {
        "colab": {
          "base_uri": "https://localhost:8080/"
        },
        "id": "lf9j57U0Uatq",
        "outputId": "a58c054e-0552-484f-beed-337e068e23ee"
      },
      "outputs": [
        {
          "output_type": "execute_result",
          "data": {
            "text/plain": [
              "0    4342\n",
              "1    3271\n",
              "Name: target, dtype: int64"
            ]
          },
          "metadata": {},
          "execution_count": 202
        }
      ],
      "source": [
        "# Tweets falsos y verdaderos en Trian\n",
        "X_train['target'].value_counts()"
      ]
    },
    {
      "cell_type": "code",
      "execution_count": 203,
      "metadata": {
        "colab": {
          "base_uri": "https://localhost:8080/",
          "height": 265
        },
        "id": "b_xFJPk3Uatr",
        "outputId": "76c536df-c2e9-4623-d66b-5cb15702fb75"
      },
      "outputs": [
        {
          "output_type": "display_data",
          "data": {
            "image/png": "[encoded data removed]",
            "text/plain": [
              "<Figure size 432x288 with 1 Axes>"
            ]
          },
          "metadata": {}
        }
      ],
      "source": [
        "X_train['target'].hist()\n",
        "plt.ylabel(\"Número tweets\")\n",
        "plt.show()"
      ]
    },
    {
      "cell_type": "markdown",
      "metadata": {
        "id": "ufJ56InDUats"
      },
      "source": [
        "Siempre conveniente realizar un análisis exploratorio de la distribución de los datos para determinar la mejor manera de resolver el problema"
      ]
    },
    {
      "cell_type": "markdown",
      "metadata": {
        "id": "i_CFCT0uUatt"
      },
      "source": [
        "### Número de palabras por Tweet"
      ]
    },
    {
      "cell_type": "code",
      "execution_count": 204,
      "metadata": {
        "colab": {
          "base_uri": "https://localhost:8080/",
          "height": 356
        },
        "id": "FYjYTsh4Uatt",
        "outputId": "69a54880-6f85-4b3f-8483-a3b7a4d092aa"
      },
      "outputs": [
        {
          "output_type": "display_data",
          "data": {
            "image/png": "[encoded data removed]",
            "text/plain": [
              "<Figure size 720x360 with 2 Axes>"
            ]
          },
          "metadata": {}
        }
      ],
      "source": [
        "fig, (ax1, ax2) = plt.subplots(1, 2, figsize=(10,5)) \n",
        "tweet_falso = X_train[X_train['target'] == 0]['text'].str.split().map(lambda x: len(x))\n",
        "tweet_real = X_train[X_train['target'] == 1]['text'].str.split().map(lambda x: len(x))\n",
        "\n",
        "ax1.hist(tweet_falso, color='red')\n",
        "ax1.set_title('Noticias Falsas')\n",
        "ax2.hist(tweet_real, color='blue')\n",
        "ax2.set_title('Noticias Reales')\n",
        "fig.suptitle('Número de palabras por tweet')\n",
        "plt.show()"
      ]
    },
    {
      "cell_type": "markdown",
      "metadata": {
        "id": "8XBsI05YUatu"
      },
      "source": [
        "### Número de palabras únicas por Tweet"
      ]
    },
    {
      "cell_type": "code",
      "execution_count": 205,
      "metadata": {
        "colab": {
          "base_uri": "https://localhost:8080/",
          "height": 356
        },
        "id": "7MbOKSPkUatv",
        "outputId": "acccc366-f132-46e1-fa02-06581e501f99"
      },
      "outputs": [
        {
          "output_type": "display_data",
          "data": {
            "image/png": "[encoded data removed]",
            "text/plain": [
              "<Figure size 720x360 with 2 Axes>"
            ]
          },
          "metadata": {}
        }
      ],
      "source": [
        "fig, (ax1, ax2) = plt.subplots(1, 2, figsize=(10,5))\n",
        "\n",
        "tweet_falso = X_train[X_train['target'] == 0]['text'].str.split().map(lambda x: len(set(x)))\n",
        "tweet_real = X_train[X_train['target'] == 1]['text'].str.split().map(lambda x: len(set(x)))\n",
        "\n",
        "ax1.hist(tweet_falso, color='red')\n",
        "ax1.set_title('Noticias Falsas')\n",
        "\n",
        "ax2.hist(tweet_real, color='blue')\n",
        "ax2.set_title('Noticias Reales')\n",
        "\n",
        "fig.suptitle('Número de palabras únicas por tweet')\n",
        "\n",
        "plt.show()"
      ]
    },
    {
      "cell_type": "markdown",
      "metadata": {
        "id": "qDqF71DJUatv"
      },
      "source": [
        "### Longitud media de las palabras por Tweet"
      ]
    },
    {
      "cell_type": "code",
      "execution_count": 206,
      "metadata": {
        "colab": {
          "base_uri": "https://localhost:8080/",
          "height": 356
        },
        "id": "M_UA8PDIUatw",
        "outputId": "5880ac51-1aba-4d7c-c17f-657ac430d42c"
      },
      "outputs": [
        {
          "output_type": "display_data",
          "data": {
            "image/png": "[encoded data removed]",
            "text/plain": [
              "<Figure size 720x360 with 2 Axes>"
            ]
          },
          "metadata": {}
        }
      ],
      "source": [
        "fig, (ax1, ax2) = plt.subplots(1, 2, figsize=(10,5))\n",
        "\n",
        " \n",
        "tweet_falso = X_train[X_train['target'] == 0]['text'].str.split().map(lambda x: np.mean([len(i) for i in x]))\n",
        "tweet_real = X_train[X_train['target'] == 1]['text'].str.split().map(lambda x: np.mean([len(i) for i in x]))\n",
        "\n",
        "ax1.hist(tweet_falso, color='red')\n",
        "ax1.set_title('Noticias Falsas')\n",
        "\n",
        "ax2.hist(tweet_real, color='blue')\n",
        "ax2.set_title('Noticias Reales')\n",
        "\n",
        "fig.suptitle('Longitud media de las palabras por Tweet')\n",
        "\n",
        "plt.show()"
      ]
    },
    {
      "cell_type": "markdown",
      "metadata": {
        "id": "CGeCwn70Uatw"
      },
      "source": [
        "### Número de caracteres por tweet"
      ]
    },
    {
      "cell_type": "code",
      "execution_count": 207,
      "metadata": {
        "colab": {
          "base_uri": "https://localhost:8080/",
          "height": 356
        },
        "id": "KkE-CeTrUatx",
        "outputId": "752f8bab-8499-4214-e374-f6b6ee27a943"
      },
      "outputs": [
        {
          "output_type": "display_data",
          "data": {
            "image/png": "[encoded data removed]",
            "text/plain": [
              "<Figure size 720x360 with 2 Axes>"
            ]
          },
          "metadata": {}
        }
      ],
      "source": [
        "fig, (ax1, ax2) = plt.subplots(1, 2, figsize=(10,5))\n",
        "\n",
        "# Calculamos el número de caracteres por tweet\n",
        "tweet_falso = X_train[X_train['target'] == 0]['text'].str.len()\n",
        "tweet_real = X_train[X_train['target'] == 1]['text'].str.len()\n",
        "\n",
        "ax1.hist(tweet_falso, color='red')\n",
        "ax1.set_title('Noticias Falsas')\n",
        "\n",
        "ax2.hist(tweet_real, color='blue')\n",
        "ax2.set_title('Noticias Reales')\n",
        "\n",
        "fig.suptitle('Número de caracteres por tweet')\n",
        "\n",
        "plt.show()"
      ]
    },
    {
      "cell_type": "markdown",
      "metadata": {
        "id": "1WIZnkkiUaty"
      },
      "source": [
        "Podríamos seguir calculando características de entrada como las siguientes:\n",
        "* Número de palabras de fin por Tweet\n",
        "* Número de urls por Tweet\n",
        "* Media de caracteres por Tweet\n",
        "* Número de caracteres por Tweet\n",
        "* Número de signos de puntuación por Tweet\n",
        "* Número de hashtags por Tweet\n",
        "* Número de @ por tweet"
      ]
    },
    {
      "cell_type": "markdown",
      "metadata": {
        "id": "yCVjfdoTUaty"
      },
      "source": [
        "### Stopwords más utilizadas"
      ]
    },
    {
      "cell_type": "markdown",
      "metadata": {
        "id": "NSti0QLFUatz"
      },
      "source": [
        "Estas palabras no tienen un significado por si solas, sino que modifican o acompañan a otras, este grupo suele estar conformado por artículos, pronombres, preposiciones, adverbios e incluso algunos verbos.\n",
        "\n",
        "En el procesamiento de datos en lenguaje natural son filtradas antes o después del proceso en si, no se consideran por su nulo significado, en el caso de los buscadores como Google no lo consideran al momento de posicionar, pero si al momento de mostrar los resultados de búsqueda."
      ]
    },
    {
      "cell_type": "code",
      "execution_count": 208,
      "metadata": {
        "colab": {
          "base_uri": "https://localhost:8080/"
        },
        "id": "S42OmGEzUatz",
        "outputId": "683a09d2-35e6-4231-e0d9-90a5affa20e4"
      },
      "outputs": [
        {
          "output_type": "stream",
          "name": "stdout",
          "text": [
            "[nltk_data] Downloading package stopwords to /root/nltk_data...\n",
            "[nltk_data]   Package stopwords is already up-to-date!\n"
          ]
        },
        {
          "output_type": "execute_result",
          "data": {
            "text/plain": [
              "True"
            ]
          },
          "metadata": {},
          "execution_count": 208
        }
      ],
      "source": [
        "import nltk\n",
        "from nltk.corpus import stopwords\n",
        "nltk.download('stopwords')"
      ]
    },
    {
      "cell_type": "code",
      "execution_count": 209,
      "metadata": {
        "colab": {
          "base_uri": "https://localhost:8080/"
        },
        "id": "1aa_ZyfGUat0",
        "outputId": "b5af0bee-e469-4efb-c960-4876e79d078f"
      },
      "outputs": [
        {
          "output_type": "execute_result",
          "data": {
            "text/plain": [
              "['i',\n",
              " 'me',\n",
              " 'my',\n",
              " 'myself',\n",
              " 'we',\n",
              " 'our',\n",
              " 'ours',\n",
              " 'ourselves',\n",
              " 'you',\n",
              " \"you're\",\n",
              " \"you've\",\n",
              " \"you'll\",\n",
              " \"you'd\",\n",
              " 'your',\n",
              " 'yours',\n",
              " 'yourself',\n",
              " 'yourselves',\n",
              " 'he',\n",
              " 'him',\n",
              " 'his',\n",
              " 'himself',\n",
              " 'she',\n",
              " \"she's\",\n",
              " 'her',\n",
              " 'hers',\n",
              " 'herself',\n",
              " 'it',\n",
              " \"it's\",\n",
              " 'its',\n",
              " 'itself',\n",
              " 'they',\n",
              " 'them',\n",
              " 'their',\n",
              " 'theirs',\n",
              " 'themselves',\n",
              " 'what',\n",
              " 'which',\n",
              " 'who',\n",
              " 'whom',\n",
              " 'this',\n",
              " 'that',\n",
              " \"that'll\",\n",
              " 'these',\n",
              " 'those',\n",
              " 'am',\n",
              " 'is',\n",
              " 'are',\n",
              " 'was',\n",
              " 'were',\n",
              " 'be',\n",
              " 'been',\n",
              " 'being',\n",
              " 'have',\n",
              " 'has',\n",
              " 'had',\n",
              " 'having',\n",
              " 'do',\n",
              " 'does',\n",
              " 'did',\n",
              " 'doing',\n",
              " 'a',\n",
              " 'an',\n",
              " 'the',\n",
              " 'and',\n",
              " 'but',\n",
              " 'if',\n",
              " 'or',\n",
              " 'because',\n",
              " 'as',\n",
              " 'until',\n",
              " 'while',\n",
              " 'of',\n",
              " 'at',\n",
              " 'by',\n",
              " 'for',\n",
              " 'with',\n",
              " 'about',\n",
              " 'against',\n",
              " 'between',\n",
              " 'into',\n",
              " 'through',\n",
              " 'during',\n",
              " 'before',\n",
              " 'after',\n",
              " 'above',\n",
              " 'below',\n",
              " 'to',\n",
              " 'from',\n",
              " 'up',\n",
              " 'down',\n",
              " 'in',\n",
              " 'out',\n",
              " 'on',\n",
              " 'off',\n",
              " 'over',\n",
              " 'under',\n",
              " 'again',\n",
              " 'further',\n",
              " 'then',\n",
              " 'once',\n",
              " 'here',\n",
              " 'there',\n",
              " 'when',\n",
              " 'where',\n",
              " 'why',\n",
              " 'how',\n",
              " 'all',\n",
              " 'any',\n",
              " 'both',\n",
              " 'each',\n",
              " 'few',\n",
              " 'more',\n",
              " 'most',\n",
              " 'other',\n",
              " 'some',\n",
              " 'such',\n",
              " 'no',\n",
              " 'nor',\n",
              " 'not',\n",
              " 'only',\n",
              " 'own',\n",
              " 'same',\n",
              " 'so',\n",
              " 'than',\n",
              " 'too',\n",
              " 'very',\n",
              " 's',\n",
              " 't',\n",
              " 'can',\n",
              " 'will',\n",
              " 'just',\n",
              " 'don',\n",
              " \"don't\",\n",
              " 'should',\n",
              " \"should've\",\n",
              " 'now',\n",
              " 'd',\n",
              " 'll',\n",
              " 'm',\n",
              " 'o',\n",
              " 're',\n",
              " 've',\n",
              " 'y',\n",
              " 'ain',\n",
              " 'aren',\n",
              " \"aren't\",\n",
              " 'couldn',\n",
              " \"couldn't\",\n",
              " 'didn',\n",
              " \"didn't\",\n",
              " 'doesn',\n",
              " \"doesn't\",\n",
              " 'hadn',\n",
              " \"hadn't\",\n",
              " 'hasn',\n",
              " \"hasn't\",\n",
              " 'haven',\n",
              " \"haven't\",\n",
              " 'isn',\n",
              " \"isn't\",\n",
              " 'ma',\n",
              " 'mightn',\n",
              " \"mightn't\",\n",
              " 'mustn',\n",
              " \"mustn't\",\n",
              " 'needn',\n",
              " \"needn't\",\n",
              " 'shan',\n",
              " \"shan't\",\n",
              " 'shouldn',\n",
              " \"shouldn't\",\n",
              " 'wasn',\n",
              " \"wasn't\",\n",
              " 'weren',\n",
              " \"weren't\",\n",
              " 'won',\n",
              " \"won't\",\n",
              " 'wouldn',\n",
              " \"wouldn't\"]"
            ]
          },
          "metadata": {},
          "execution_count": 209
        }
      ],
      "source": [
        "stopwords.words('english')"
      ]
    },
    {
      "cell_type": "code",
      "execution_count": 210,
      "metadata": {
        "id": "LVWPvxIKUat0"
      },
      "outputs": [],
      "source": [
        "def  stopwords_promedio(clase):\n",
        "    tweets_stopwords = {}\n",
        "    for palabras in X_train[X_train['target'] == clase]['text'].str.split():\n",
        "        sw = list(set(palabras).intersection(stopwords.words('english')))\n",
        "        for i in sw:\n",
        "            if i in tweets_stopwords.keys():\n",
        "                tweets_stopwords[i] += 1\n",
        "            else:\n",
        "                tweets_stopwords[i] = 1\n",
        "                \n",
        "    top = sorted(tweets_stopwords.items(), key=lambda x:x[1],reverse=True)[:10]\n",
        "    plt.bar(*zip(*top))\n",
        "    plt.show()"
      ]
    },
    {
      "cell_type": "code",
      "execution_count": 211,
      "metadata": {
        "colab": {
          "base_uri": "https://localhost:8080/",
          "height": 266
        },
        "id": "oWQVkkJnUat0",
        "outputId": "4efe60f0-eb1f-4f3b-9b8d-1e09d97745f4"
      },
      "outputs": [
        {
          "output_type": "display_data",
          "data": {
            "image/png": "[encoded data removed]",
            "text/plain": [
              "<Figure size 432x288 with 1 Axes>"
            ]
          },
          "metadata": {}
        }
      ],
      "source": [
        "stopwords_promedio(0)"
      ]
    },
    {
      "cell_type": "code",
      "execution_count": 212,
      "metadata": {
        "colab": {
          "base_uri": "https://localhost:8080/",
          "height": 265
        },
        "id": "rT1np360Uat1",
        "outputId": "d7cdd515-f2ba-42f4-b7b3-5c2eb843819f"
      },
      "outputs": [
        {
          "output_type": "display_data",
          "data": {
            "image/png": "[encoded data removed]",
            "text/plain": [
              "<Figure size 432x288 with 1 Axes>"
            ]
          },
          "metadata": {}
        }
      ],
      "source": [
        "stopwords_promedio(1)"
      ]
    },
    {
      "cell_type": "markdown",
      "metadata": {
        "id": "UDivqMjDUat1"
      },
      "source": [
        "### Análisis signos de puntuación"
      ]
    },
    {
      "cell_type": "code",
      "execution_count": 213,
      "metadata": {
        "id": "XnOH8pBqUat1"
      },
      "outputs": [],
      "source": [
        "import string\n",
        "\n",
        "def signo_punctuacion(clase):\n",
        "    tweets_stopwords = {}\n",
        "    for words in X_train[X_train['target'] == clase]['text'].str.split():\n",
        "        sw = list(set(words).intersection(string.punctuation))\n",
        "        for w in sw:\n",
        "            if w in tweets_stopwords.keys():\n",
        "                tweets_stopwords[w] += 1\n",
        "            else:\n",
        "                tweets_stopwords[w] = 1\n",
        "                \n",
        "    top = sorted(tweets_stopwords.items(), key=lambda x:x[1],reverse=True)[:20]\n",
        "    plt.figure(figsize=(10, 5))\n",
        "    plt.bar(*zip(*top))\n",
        "    plt.show()"
      ]
    },
    {
      "cell_type": "code",
      "execution_count": 214,
      "metadata": {
        "colab": {
          "base_uri": "https://localhost:8080/",
          "height": 320
        },
        "id": "03LSHQ6aUat2",
        "outputId": "fc4414bf-465a-4e3f-af38-cbec9161d801"
      },
      "outputs": [
        {
          "output_type": "display_data",
          "data": {
            "image/png": "[encoded data removed]",
            "text/plain": [
              "<Figure size 720x360 with 1 Axes>"
            ]
          },
          "metadata": {}
        }
      ],
      "source": [
        "signo_punctuacion(0)"
      ]
    },
    {
      "cell_type": "code",
      "execution_count": 215,
      "metadata": {
        "colab": {
          "base_uri": "https://localhost:8080/",
          "height": 320
        },
        "id": "6E4gc4Z7Uat2",
        "outputId": "62275796-bfeb-49aa-e8ce-efa05347e652"
      },
      "outputs": [
        {
          "output_type": "display_data",
          "data": {
            "image/png": "[encoded data removed]",
            "text/plain": [
              "<Figure size 720x360 with 1 Axes>"
            ]
          },
          "metadata": {}
        }
      ],
      "source": [
        "signo_punctuacion(1)"
      ]
    },
    {
      "cell_type": "markdown",
      "metadata": {
        "id": "jBSkjWiRUat2"
      },
      "source": [
        "### Análisis de Ngramas"
      ]
    },
    {
      "cell_type": "code",
      "execution_count": 216,
      "metadata": {
        "id": "ht6Sdxm1Uat3"
      },
      "outputs": [],
      "source": [
        "from sklearn.feature_extraction.text import CountVectorizer\n",
        "\n",
        "cv = CountVectorizer(ngram_range=(2, 2))\n",
        "sum_words = cv.fit_transform(X_train['text']).sum(axis=0)\n",
        "\n",
        "words_freq = [(word, sum_words[0, idx]) for word, idx in cv.vocabulary_.items()]\n",
        "words_freq = sorted(words_freq, key = lambda x: x[1], reverse=True)[:20]"
      ]
    },
    {
      "cell_type": "code",
      "execution_count": 217,
      "metadata": {
        "colab": {
          "base_uri": "https://localhost:8080/",
          "height": 428
        },
        "id": "6KmKVbYGUat3",
        "outputId": "2082ccff-ae33-4fce-9192-c1a1b6c00cd7"
      },
      "outputs": [
        {
          "output_type": "display_data",
          "data": {
            "image/png": "[encoded data removed]",
            "text/plain": [
              "<Figure size 1080x504 with 1 Axes>"
            ]
          },
          "metadata": {}
        }
      ],
      "source": [
        "plt.figure(figsize=(15, 7))\n",
        "plt.barh(*zip(*words_freq))\n",
        "plt.show()"
      ]
    },
    {
      "cell_type": "markdown",
      "metadata": {
        "id": "1sXMtW-UUat3"
      },
      "source": [
        "## 3. Limpieza del conjunto de datos"
      ]
    },
    {
      "cell_type": "code",
      "execution_count": 218,
      "metadata": {
        "id": "g-ReS9juUat4"
      },
      "outputs": [],
      "source": [
        "import re"
      ]
    },
    {
      "cell_type": "code",
      "execution_count": 219,
      "metadata": {
        "id": "jG_OgtuxUat4"
      },
      "outputs": [],
      "source": [
        "def limpia_url(texto):\n",
        "    url = re.compile(r'https?://\\S+|www\\.\\S+')\n",
        "    return url.sub(r'', texto)"
      ]
    },
    {
      "cell_type": "code",
      "execution_count": 220,
      "metadata": {
        "colab": {
          "base_uri": "https://localhost:8080/",
          "height": 35
        },
        "id": "LXQisDs2Uat4",
        "outputId": "02454bdd-4530-4081-a6b6-cb96307978ac"
      },
      "outputs": [
        {
          "output_type": "execute_result",
          "data": {
            "application/vnd.google.colaboratory.intrinsic+json": {
              "type": "string"
            },
            "text/plain": [
              "''"
            ]
          },
          "metadata": {},
          "execution_count": 220
        }
      ],
      "source": [
        "limpia_url(\"https://unipython.com/como-preparar-datos-de-texto-con-scikit-learn/\")"
      ]
    },
    {
      "cell_type": "code",
      "execution_count": 221,
      "metadata": {
        "id": "pST7rqtsUat5"
      },
      "outputs": [],
      "source": [
        "from html.parser import HTMLParser\n",
        "\n",
        "class HTMLparser(HTMLParser):\n",
        "    def __init__(self):\n",
        "        self.reset()\n",
        "        self.strict = False\n",
        "        self.convert_charrefs = True\n",
        "        self.fed = []\n",
        "        \n",
        "    def handle_data(self, d):\n",
        "        self.fed.append(d)\n",
        "        \n",
        "    def get_data(self):\n",
        "        return ''.join(self.fed)\n",
        "\n",
        "def limpia_html(texto):\n",
        "    s = HTMLparser()\n",
        "    s.feed(texto)\n",
        "    return s.get_data()"
      ]
    },
    {
      "cell_type": "code",
      "execution_count": 222,
      "metadata": {
        "colab": {
          "base_uri": "https://localhost:8080/",
          "height": 35
        },
        "id": "AXjNX2NrUat5",
        "outputId": "c2342892-c4fd-41c1-df9b-633b2ff4c24b"
      },
      "outputs": [
        {
          "output_type": "execute_result",
          "data": {
            "application/vnd.google.colaboratory.intrinsic+json": {
              "type": "string"
            },
            "text/plain": [
              "'TestParse me!'"
            ]
          },
          "metadata": {},
          "execution_count": 222
        }
      ],
      "source": [
        "limpia_html('<html><head><title>Test</title></head>'\n",
        "            '<body><h1>Parse me!</h1></body></html>')"
      ]
    },
    {
      "cell_type": "code",
      "execution_count": 223,
      "metadata": {
        "id": "4f-M1foVUat6"
      },
      "outputs": [],
      "source": [
        "def limpia_emoji(texto):\n",
        "    emoji_patron = re.compile(\"[\"\n",
        "                           u\"\\U0001F600-\\U0001F64F\"  # emoticones\n",
        "                           u\"\\U0001F300-\\U0001F5FF\"  # symbols & pictographs\n",
        "                           u\"\\U0001F680-\\U0001F6FF\"  # transport & map symbols\n",
        "                           u\"\\U0001F1E0-\\U0001F1FF\"  # flags (iOS)\n",
        "                           u\"\\U00002702-\\U000027B0\"\n",
        "                           u\"\\U000024C2-\\U0001F251\"\n",
        "                           \"]+\", flags=re.UNICODE)\n",
        "    return emoji_patron.sub(r'', texto)"
      ]
    },
    {
      "cell_type": "code",
      "execution_count": 224,
      "metadata": {
        "colab": {
          "base_uri": "https://localhost:8080/",
          "height": 35
        },
        "id": "jGzt3NW4Uat6",
        "outputId": "4932feb2-3d5d-45b9-e407-b68e000b3945"
      },
      "outputs": [
        {
          "output_type": "execute_result",
          "data": {
            "application/vnd.google.colaboratory.intrinsic+json": {
              "type": "string"
            },
            "text/plain": [
              "'No se gresa a clases por covid '"
            ]
          },
          "metadata": {},
          "execution_count": 224
        }
      ],
      "source": [
        "limpia_emoji(\"No se gresa a clases por covid 😔😔\")"
      ]
    },
    {
      "cell_type": "code",
      "execution_count": 225,
      "metadata": {
        "id": "CV6jWFJsUat6"
      },
      "outputs": [],
      "source": [
        "def limpieza_puntuacion(texto):\n",
        "    return texto.translate(str.maketrans('', '', string.punctuation))"
      ]
    },
    {
      "cell_type": "code",
      "execution_count": 226,
      "metadata": {
        "colab": {
          "base_uri": "https://localhost:8080/",
          "height": 35
        },
        "id": "3O9nyGFkUat6",
        "outputId": "06c840d9-fde0-4734-ca6f-0233b5393d6b"
      },
      "outputs": [
        {
          "output_type": "execute_result",
          "data": {
            "application/vnd.google.colaboratory.intrinsic+json": {
              "type": "string"
            },
            "text/plain": [
              "'odio la uni'"
            ]
          },
          "metadata": {},
          "execution_count": 226
        }
      ],
      "source": [
        "limpieza_puntuacion(\"#odio, la. uni\")"
      ]
    },
    {
      "cell_type": "code",
      "execution_count": 227,
      "metadata": {
        "id": "7kLWpt2MUat7"
      },
      "outputs": [],
      "source": [
        "# Aplicamos nuestras funciones de limpieza del conjunto train\n",
        "X_train_prep = X_train.copy()\n",
        "\n",
        "X_train_prep['text'] = X_train['text'].apply(limpia_url)\n",
        "X_train_prep['text'] = X_train['text'].apply(limpia_html)\n",
        "X_train_prep['text'] = X_train['text'].apply(limpia_emoji)\n",
        "X_train_prep['text'] = X_train['text'].apply(limpieza_puntuacion)"
      ]
    },
    {
      "cell_type": "code",
      "execution_count": 228,
      "metadata": {
        "id": "CY4KI2XwUat7"
      },
      "outputs": [],
      "source": [
        "# Aplicamos nuestras funciones de limpieza del conjunto test\n",
        "X_test_prep = X_test.copy()\n",
        "\n",
        "X_test_prep['text'] = X_test['text'].apply(limpia_url)\n",
        "X_test_prep['text'] = X_test['text'].apply(limpia_html)\n",
        "X_test_prep['text'] = X_test['text'].apply(limpia_emoji)\n",
        "X_test_prep['text'] = X_test['text'].apply(limpieza_puntuacion)"
      ]
    },
    {
      "cell_type": "code",
      "execution_count": 229,
      "metadata": {
        "id": "dOwoL-SpUat7"
      },
      "outputs": [],
      "source": [
        "from sklearn.feature_extraction.text import CountVectorizer\n",
        "\n",
        "cv = CountVectorizer(ngram_range=(2, 2))\n",
        "sum_words = cv.fit_transform(X_train_prep['text']).sum(axis=0)\n",
        "\n",
        "# Calculamos \n",
        "words_freq = [(word, sum_words[0, idx]) for word, idx in cv.vocabulary_.items()]\n",
        "words_freq = sorted(words_freq, key = lambda x: x[1], reverse=True)[:20]"
      ]
    },
    {
      "cell_type": "code",
      "execution_count": 230,
      "metadata": {
        "colab": {
          "base_uri": "https://localhost:8080/",
          "height": 428
        },
        "id": "yss84t20Uat7",
        "outputId": "621df68c-878a-4393-c762-c89232cfa820"
      },
      "outputs": [
        {
          "output_type": "display_data",
          "data": {
            "image/png": "[encoded data removed]",
            "text/plain": [
              "<Figure size 1080x504 with 1 Axes>"
            ]
          },
          "metadata": {}
        }
      ],
      "source": [
        "plt.figure(figsize=(15, 7))\n",
        "plt.barh(*zip(*words_freq))\n",
        "plt.show()"
      ]
    },
    {
      "cell_type": "markdown",
      "metadata": {
        "id": "RYBbg3AzUat8"
      },
      "source": [
        "## 4. Vectorización del conjunto de datos"
      ]
    },
    {
      "cell_type": "code",
      "execution_count": 231,
      "metadata": {
        "id": "RGTTZqv-Uat8"
      },
      "outputs": [],
      "source": [
        "Y_train = X_train_prep['target']"
      ]
    },
    {
      "cell_type": "code",
      "execution_count": 232,
      "metadata": {
        "id": "enCCqijlUat8"
      },
      "outputs": [],
      "source": [
        "from sklearn.feature_extraction.text import TfidfVectorizer\n",
        "\n",
        "vectorizer = TfidfVectorizer()\n",
        "\n",
        "X_train = vectorizer.fit_transform(X_train_prep['text'])"
      ]
    },
    {
      "cell_type": "code",
      "execution_count": 233,
      "metadata": {
        "id": "QdXjOgHpUat8"
      },
      "outputs": [],
      "source": [
        "X_train = X_train.toarray()"
      ]
    },
    {
      "cell_type": "code",
      "execution_count": 234,
      "metadata": {
        "colab": {
          "base_uri": "https://localhost:8080/"
        },
        "id": "PYHKUPLtUat9",
        "outputId": "4e7ba7aa-cc7f-482f-a774-f679869955a9"
      },
      "outputs": [
        {
          "output_type": "execute_result",
          "data": {
            "text/plain": [
              "array([[0., 0., 0., ..., 0., 0., 0.],\n",
              "       [0., 0., 0., ..., 0., 0., 0.],\n",
              "       [0., 0., 0., ..., 0., 0., 0.],\n",
              "       ...,\n",
              "       [0., 0., 0., ..., 0., 0., 0.],\n",
              "       [0., 0., 0., ..., 0., 0., 0.],\n",
              "       [0., 0., 0., ..., 0., 0., 0.]])"
            ]
          },
          "metadata": {},
          "execution_count": 234
        }
      ],
      "source": [
        "X_train"
      ]
    },
    {
      "cell_type": "code",
      "execution_count": 235,
      "metadata": {
        "id": "o1LurdvJUat9"
      },
      "outputs": [],
      "source": [
        "X_test = vectorizer.transform(X_test_prep['text'])\n",
        "X_test = X_test.toarray()"
      ]
    },
    {
      "cell_type": "markdown",
      "metadata": {
        "id": "X5LY9LEeUat9"
      },
      "source": [
        "## 5. División del conjunto de datos"
      ]
    },
    {
      "cell_type": "code",
      "execution_count": 236,
      "metadata": {
        "id": "_WVzHgYuUat9"
      },
      "outputs": [],
      "source": [
        "from sklearn.model_selection import train_test_split\n",
        "X_train, X_val, Y_train, Y_val = train_test_split(X_train, Y_train, test_size=0.30)"
      ]
    },
    {
      "cell_type": "code",
      "execution_count": 237,
      "metadata": {
        "colab": {
          "base_uri": "https://localhost:8080/"
        },
        "id": "0PcGkFreUat-",
        "outputId": "0be29f24-8d27-4ba0-e704-337b29c6de4d",
        "scrolled": true
      },
      "outputs": [
        {
          "output_type": "stream",
          "name": "stdout",
          "text": [
            "tamaño entrenamiento:  5329\n",
            "tamaño de validación:  2284\n",
            "tamaño pruebas:  3263\n"
          ]
        }
      ],
      "source": [
        "print(\"tamaño entrenamiento: \", len(X_train))\n",
        "print(\"tamaño de validación: \", len(X_val))\n",
        "print(\"tamaño pruebas: \", len(X_test))"
      ]
    },
    {
      "cell_type": "code",
      "execution_count": 238,
      "metadata": {
        "id": "zY-23EJVneK7",
        "colab": {
          "base_uri": "https://localhost:8080/"
        },
        "outputId": "98feafe1-992f-40b8-a3fe-81ecb8254b47"
      },
      "outputs": [
        {
          "output_type": "execute_result",
          "data": {
            "text/plain": [
              "119337626"
            ]
          },
          "metadata": {},
          "execution_count": 238
        }
      ],
      "source": [
        "X_train.size\n",
        " "
      ]
    },
    {
      "cell_type": "markdown",
      "metadata": {
        "id": "v7eubzP5Uat-"
      },
      "source": [
        "## 6. Construcción del modelo"
      ]
    },
    {
      "cell_type": "code",
      "execution_count": 239,
      "metadata": {
        "id": "R_ypKROzUat-"
      },
      "outputs": [],
      "source": [
        "import tensorflow as tf\n",
        "from tensorflow.keras import models\n",
        "from tensorflow.keras import layers\n",
        "\n",
        "model = models.Sequential()\n",
        "\n",
        "model.add(layers.Dense(16, activation='relu', input_shape=(X_train.shape[1],)))\n",
        "model.add(layers.Dropout(0.4))\n",
        "model.add(layers.Dense(16, activation='relu'))\n",
        "model.add(layers.Dropout(0.4))\n",
        "model.add(layers.Dense(1, activation='sigmoid'))"
      ]
    },
    {
      "cell_type": "code",
      "execution_count": 240,
      "metadata": {
        "id": "dLZjyBI4Uat-"
      },
      "outputs": [],
      "source": [
        "model.compile(\n",
        "    optimizer='adam', \n",
        "    loss='binary_crossentropy',\n",
        "    metrics=['accuracy', 'Precision']\n",
        ")"
      ]
    },
    {
      "cell_type": "code",
      "source": [
        "Y_train.iloc[1000]"
      ],
      "metadata": {
        "colab": {
          "base_uri": "https://localhost:8080/"
        },
        "id": "f349WdlZ4yBm",
        "outputId": "6deb0798-d528-4d43-db9b-e89e27b1d27d"
      },
      "execution_count": 241,
      "outputs": [
        {
          "output_type": "execute_result",
          "data": {
            "text/plain": [
              "1"
            ]
          },
          "metadata": {},
          "execution_count": 241
        }
      ]
    },
    {
      "cell_type": "code",
      "source": [
        "from sklearn.model_selection import KFold\n",
        " \n",
        "X= X_train\n",
        "y = Y_train\n",
        "hf=KFold(n_splits= 2,  random_state=None, shuffle=False)\n",
        "for train_index, test_index in kf.split(X ):\n",
        "  X_entrenamiento, X_prueba = X[train_index], X[test_index]\n",
        "  Y_entrenamiento, Y_prueba = y.iloc[train_index], y.iloc[test_index]\n",
        "  history = model.fit(\n",
        "    X_entrenamiento,\n",
        "    Y_entrenamiento,\n",
        "    epochs=10,\n",
        "    batch_size=1024,\n",
        "    validation_data=(X_prueba, Y_prueba))\n",
        "  print(f'\\nTrain{train_index}    Test{test_index}\\n')\n",
        "  \n",
        "  \n",
        "  "
      ],
      "metadata": {
        "colab": {
          "base_uri": "https://localhost:8080/"
        },
        "id": "H2V_FTftoKwT",
        "outputId": "a31470b1-fc01-418f-83d2-13ab40bc750a"
      },
      "execution_count": 242,
      "outputs": [
        {
          "output_type": "stream",
          "name": "stdout",
          "text": [
            "Epoch 1/10\n",
            "5/5 [==============================] - 2s 232ms/step - loss: 0.6923 - accuracy: 0.5542 - precision: 0.4046 - val_loss: 0.6909 - val_accuracy: 0.5647 - val_precision: 0.0000e+00\n",
            "Epoch 2/10\n",
            "5/5 [==============================] - 1s 125ms/step - loss: 0.6888 - accuracy: 0.5811 - precision: 0.9333 - val_loss: 0.6881 - val_accuracy: 0.5647 - val_precision: 0.0000e+00\n",
            "Epoch 3/10\n",
            "5/5 [==============================] - 1s 125ms/step - loss: 0.6841 - accuracy: 0.5809 - precision: 1.0000 - val_loss: 0.6847 - val_accuracy: 0.5647 - val_precision: 0.0000e+00\n",
            "Epoch 4/10\n",
            "5/5 [==============================] - 1s 119ms/step - loss: 0.6783 - accuracy: 0.5855 - precision: 1.0000 - val_loss: 0.6804 - val_accuracy: 0.5647 - val_precision: 0.0000e+00\n",
            "Epoch 5/10\n",
            "5/5 [==============================] - 1s 127ms/step - loss: 0.6705 - accuracy: 0.5980 - precision: 1.0000 - val_loss: 0.6753 - val_accuracy: 0.5647 - val_precision: 0.0000e+00\n",
            "Epoch 6/10\n",
            "5/5 [==============================] - 1s 118ms/step - loss: 0.6621 - accuracy: 0.6168 - precision: 0.9946 - val_loss: 0.6694 - val_accuracy: 0.5816 - val_precision: 1.0000\n",
            "Epoch 7/10\n",
            "5/5 [==============================] - 1s 120ms/step - loss: 0.6515 - accuracy: 0.6441 - precision: 0.9968 - val_loss: 0.6627 - val_accuracy: 0.6135 - val_precision: 1.0000\n",
            "Epoch 8/10\n",
            "5/5 [==============================] - 1s 126ms/step - loss: 0.6409 - accuracy: 0.6695 - precision: 0.9932 - val_loss: 0.6555 - val_accuracy: 0.6379 - val_precision: 1.0000\n",
            "Epoch 9/10\n",
            "5/5 [==============================] - 1s 120ms/step - loss: 0.6274 - accuracy: 0.7018 - precision: 0.9950 - val_loss: 0.6477 - val_accuracy: 0.6604 - val_precision: 1.0000\n",
            "Epoch 10/10\n",
            "5/5 [==============================] - 1s 112ms/step - loss: 0.6130 - accuracy: 0.7250 - precision: 0.9889 - val_loss: 0.6396 - val_accuracy: 0.6754 - val_precision: 0.9538\n",
            "\n",
            "Train[ 533  534  535 ... 5326 5327 5328]    Test[  0   1   2   3   4   5   6   7   8   9  10  11  12  13  14  15  16  17\n",
            "  18  19  20  21  22  23  24  25  26  27  28  29  30  31  32  33  34  35\n",
            "  36  37  38  39  40  41  42  43  44  45  46  47  48  49  50  51  52  53\n",
            "  54  55  56  57  58  59  60  61  62  63  64  65  66  67  68  69  70  71\n",
            "  72  73  74  75  76  77  78  79  80  81  82  83  84  85  86  87  88  89\n",
            "  90  91  92  93  94  95  96  97  98  99 100 101 102 103 104 105 106 107\n",
            " 108 109 110 111 112 113 114 115 116 117 118 119 120 121 122 123 124 125\n",
            " 126 127 128 129 130 131 132 133 134 135 136 137 138 139 140 141 142 143\n",
            " 144 145 146 147 148 149 150 151 152 153 154 155 156 157 158 159 160 161\n",
            " 162 163 164 165 166 167 168 169 170 171 172 173 174 175 176 177 178 179\n",
            " 180 181 182 183 184 185 186 187 188 189 190 191 192 193 194 195 196 197\n",
            " 198 199 200 201 202 203 204 205 206 207 208 209 210 211 212 213 214 215\n",
            " 216 217 218 219 220 221 222 223 224 225 226 227 228 229 230 231 232 233\n",
            " 234 235 236 237 238 239 240 241 242 243 244 245 246 247 248 249 250 251\n",
            " 252 253 254 255 256 257 258 259 260 261 262 263 264 265 266 267 268 269\n",
            " 270 271 272 273 274 275 276 277 278 279 280 281 282 283 284 285 286 287\n",
            " 288 289 290 291 292 293 294 295 296 297 298 299 300 301 302 303 304 305\n",
            " 306 307 308 309 310 311 312 313 314 315 316 317 318 319 320 321 322 323\n",
            " 324 325 326 327 328 329 330 331 332 333 334 335 336 337 338 339 340 341\n",
            " 342 343 344 345 346 347 348 349 350 351 352 353 354 355 356 357 358 359\n",
            " 360 361 362 363 364 365 366 367 368 369 370 371 372 373 374 375 376 377\n",
            " 378 379 380 381 382 383 384 385 386 387 388 389 390 391 392 393 394 395\n",
            " 396 397 398 399 400 401 402 403 404 405 406 407 408 409 410 411 412 413\n",
            " 414 415 416 417 418 419 420 421 422 423 424 425 426 427 428 429 430 431\n",
            " 432 433 434 435 436 437 438 439 440 441 442 443 444 445 446 447 448 449\n",
            " 450 451 452 453 454 455 456 457 458 459 460 461 462 463 464 465 466 467\n",
            " 468 469 470 471 472 473 474 475 476 477 478 479 480 481 482 483 484 485\n",
            " 486 487 488 489 490 491 492 493 494 495 496 497 498 499 500 501 502 503\n",
            " 504 505 506 507 508 509 510 511 512 513 514 515 516 517 518 519 520 521\n",
            " 522 523 524 525 526 527 528 529 530 531 532]\n",
            "\n",
            "Epoch 1/10\n",
            "5/5 [==============================] - 1s 136ms/step - loss: 0.6031 - accuracy: 0.7354 - precision: 0.9834 - val_loss: 0.5836 - val_accuracy: 0.7974 - val_precision: 1.0000\n",
            "Epoch 2/10\n",
            "5/5 [==============================] - 1s 128ms/step - loss: 0.5846 - accuracy: 0.7661 - precision: 0.9738 - val_loss: 0.5690 - val_accuracy: 0.8124 - val_precision: 1.0000\n",
            "Epoch 3/10\n",
            "5/5 [==============================] - 1s 125ms/step - loss: 0.5710 - accuracy: 0.7800 - precision: 0.9841 - val_loss: 0.5550 - val_accuracy: 0.8180 - val_precision: 1.0000\n",
            "Epoch 4/10\n",
            "5/5 [==============================] - 1s 127ms/step - loss: 0.5535 - accuracy: 0.8015 - precision: 0.9795 - val_loss: 0.5414 - val_accuracy: 0.8293 - val_precision: 1.0000\n",
            "Epoch 5/10\n",
            "5/5 [==============================] - 1s 122ms/step - loss: 0.5370 - accuracy: 0.8142 - precision: 0.9781 - val_loss: 0.5282 - val_accuracy: 0.8386 - val_precision: 1.0000\n",
            "Epoch 6/10\n",
            "5/5 [==============================] - 1s 122ms/step - loss: 0.5174 - accuracy: 0.8288 - precision: 0.9756 - val_loss: 0.5152 - val_accuracy: 0.8386 - val_precision: 0.9862\n",
            "Epoch 7/10\n",
            "5/5 [==============================] - 1s 120ms/step - loss: 0.4977 - accuracy: 0.8394 - precision: 0.9743 - val_loss: 0.5025 - val_accuracy: 0.8443 - val_precision: 0.9865\n",
            "Epoch 8/10\n",
            "5/5 [==============================] - 1s 120ms/step - loss: 0.4792 - accuracy: 0.8601 - precision: 0.9755 - val_loss: 0.4900 - val_accuracy: 0.8518 - val_precision: 0.9805\n",
            "Epoch 9/10\n",
            "5/5 [==============================] - 1s 119ms/step - loss: 0.4640 - accuracy: 0.8655 - precision: 0.9726 - val_loss: 0.4780 - val_accuracy: 0.8518 - val_precision: 0.9805\n",
            "Epoch 10/10\n",
            "5/5 [==============================] - 1s 118ms/step - loss: 0.4424 - accuracy: 0.8747 - precision: 0.9747 - val_loss: 0.4662 - val_accuracy: 0.8555 - val_precision: 0.9808\n",
            "\n",
            "Train[   0    1    2 ... 5326 5327 5328]    Test[ 533  534  535  536  537  538  539  540  541  542  543  544  545  546\n",
            "  547  548  549  550  551  552  553  554  555  556  557  558  559  560\n",
            "  561  562  563  564  565  566  567  568  569  570  571  572  573  574\n",
            "  575  576  577  578  579  580  581  582  583  584  585  586  587  588\n",
            "  589  590  591  592  593  594  595  596  597  598  599  600  601  602\n",
            "  603  604  605  606  607  608  609  610  611  612  613  614  615  616\n",
            "  617  618  619  620  621  622  623  624  625  626  627  628  629  630\n",
            "  631  632  633  634  635  636  637  638  639  640  641  642  643  644\n",
            "  645  646  647  648  649  650  651  652  653  654  655  656  657  658\n",
            "  659  660  661  662  663  664  665  666  667  668  669  670  671  672\n",
            "  673  674  675  676  677  678  679  680  681  682  683  684  685  686\n",
            "  687  688  689  690  691  692  693  694  695  696  697  698  699  700\n",
            "  701  702  703  704  705  706  707  708  709  710  711  712  713  714\n",
            "  715  716  717  718  719  720  721  722  723  724  725  726  727  728\n",
            "  729  730  731  732  733  734  735  736  737  738  739  740  741  742\n",
            "  743  744  745  746  747  748  749  750  751  752  753  754  755  756\n",
            "  757  758  759  760  761  762  763  764  765  766  767  768  769  770\n",
            "  771  772  773  774  775  776  777  778  779  780  781  782  783  784\n",
            "  785  786  787  788  789  790  791  792  793  794  795  796  797  798\n",
            "  799  800  801  802  803  804  805  806  807  808  809  810  811  812\n",
            "  813  814  815  816  817  818  819  820  821  822  823  824  825  826\n",
            "  827  828  829  830  831  832  833  834  835  836  837  838  839  840\n",
            "  841  842  843  844  845  846  847  848  849  850  851  852  853  854\n",
            "  855  856  857  858  859  860  861  862  863  864  865  866  867  868\n",
            "  869  870  871  872  873  874  875  876  877  878  879  880  881  882\n",
            "  883  884  885  886  887  888  889  890  891  892  893  894  895  896\n",
            "  897  898  899  900  901  902  903  904  905  906  907  908  909  910\n",
            "  911  912  913  914  915  916  917  918  919  920  921  922  923  924\n",
            "  925  926  927  928  929  930  931  932  933  934  935  936  937  938\n",
            "  939  940  941  942  943  944  945  946  947  948  949  950  951  952\n",
            "  953  954  955  956  957  958  959  960  961  962  963  964  965  966\n",
            "  967  968  969  970  971  972  973  974  975  976  977  978  979  980\n",
            "  981  982  983  984  985  986  987  988  989  990  991  992  993  994\n",
            "  995  996  997  998  999 1000 1001 1002 1003 1004 1005 1006 1007 1008\n",
            " 1009 1010 1011 1012 1013 1014 1015 1016 1017 1018 1019 1020 1021 1022\n",
            " 1023 1024 1025 1026 1027 1028 1029 1030 1031 1032 1033 1034 1035 1036\n",
            " 1037 1038 1039 1040 1041 1042 1043 1044 1045 1046 1047 1048 1049 1050\n",
            " 1051 1052 1053 1054 1055 1056 1057 1058 1059 1060 1061 1062 1063 1064\n",
            " 1065]\n",
            "\n",
            "Epoch 1/10\n",
            "5/5 [==============================] - 1s 143ms/step - loss: 0.4275 - accuracy: 0.8828 - precision: 0.9679 - val_loss: 0.3865 - val_accuracy: 0.9193 - val_precision: 1.0000\n",
            "Epoch 2/10\n",
            "5/5 [==============================] - 1s 144ms/step - loss: 0.4145 - accuracy: 0.8843 - precision: 0.9622 - val_loss: 0.3700 - val_accuracy: 0.9231 - val_precision: 1.0000\n",
            "Epoch 3/10\n",
            "5/5 [==============================] - 1s 133ms/step - loss: 0.3927 - accuracy: 0.8991 - precision: 0.9644 - val_loss: 0.3552 - val_accuracy: 0.9231 - val_precision: 1.0000\n",
            "Epoch 4/10\n",
            "5/5 [==============================] - 1s 120ms/step - loss: 0.3729 - accuracy: 0.9126 - precision: 0.9668 - val_loss: 0.3417 - val_accuracy: 0.9268 - val_precision: 1.0000\n",
            "Epoch 5/10\n",
            "5/5 [==============================] - 1s 128ms/step - loss: 0.3566 - accuracy: 0.9151 - precision: 0.9628 - val_loss: 0.3297 - val_accuracy: 0.9231 - val_precision: 0.9948\n",
            "Epoch 6/10\n",
            "5/5 [==============================] - 1s 121ms/step - loss: 0.3419 - accuracy: 0.9189 - precision: 0.9663 - val_loss: 0.3188 - val_accuracy: 0.9231 - val_precision: 0.9948\n",
            "Epoch 7/10\n",
            "5/5 [==============================] - 1s 120ms/step - loss: 0.3209 - accuracy: 0.9237 - precision: 0.9662 - val_loss: 0.3087 - val_accuracy: 0.9231 - val_precision: 0.9948\n",
            "Epoch 8/10\n",
            "5/5 [==============================] - 1s 126ms/step - loss: 0.3098 - accuracy: 0.9297 - precision: 0.9668 - val_loss: 0.2992 - val_accuracy: 0.9193 - val_precision: 0.9896\n",
            "Epoch 9/10\n",
            "5/5 [==============================] - 1s 123ms/step - loss: 0.2968 - accuracy: 0.9343 - precision: 0.9677 - val_loss: 0.2910 - val_accuracy: 0.9193 - val_precision: 0.9896\n",
            "Epoch 10/10\n",
            "5/5 [==============================] - 1s 118ms/step - loss: 0.2823 - accuracy: 0.9385 - precision: 0.9726 - val_loss: 0.2837 - val_accuracy: 0.9212 - val_precision: 0.9897\n",
            "\n",
            "Train[   0    1    2 ... 5326 5327 5328]    Test[1066 1067 1068 1069 1070 1071 1072 1073 1074 1075 1076 1077 1078 1079\n",
            " 1080 1081 1082 1083 1084 1085 1086 1087 1088 1089 1090 1091 1092 1093\n",
            " 1094 1095 1096 1097 1098 1099 1100 1101 1102 1103 1104 1105 1106 1107\n",
            " 1108 1109 1110 1111 1112 1113 1114 1115 1116 1117 1118 1119 1120 1121\n",
            " 1122 1123 1124 1125 1126 1127 1128 1129 1130 1131 1132 1133 1134 1135\n",
            " 1136 1137 1138 1139 1140 1141 1142 1143 1144 1145 1146 1147 1148 1149\n",
            " 1150 1151 1152 1153 1154 1155 1156 1157 1158 1159 1160 1161 1162 1163\n",
            " 1164 1165 1166 1167 1168 1169 1170 1171 1172 1173 1174 1175 1176 1177\n",
            " 1178 1179 1180 1181 1182 1183 1184 1185 1186 1187 1188 1189 1190 1191\n",
            " 1192 1193 1194 1195 1196 1197 1198 1199 1200 1201 1202 1203 1204 1205\n",
            " 1206 1207 1208 1209 1210 1211 1212 1213 1214 1215 1216 1217 1218 1219\n",
            " 1220 1221 1222 1223 1224 1225 1226 1227 1228 1229 1230 1231 1232 1233\n",
            " 1234 1235 1236 1237 1238 1239 1240 1241 1242 1243 1244 1245 1246 1247\n",
            " 1248 1249 1250 1251 1252 1253 1254 1255 1256 1257 1258 1259 1260 1261\n",
            " 1262 1263 1264 1265 1266 1267 1268 1269 1270 1271 1272 1273 1274 1275\n",
            " 1276 1277 1278 1279 1280 1281 1282 1283 1284 1285 1286 1287 1288 1289\n",
            " 1290 1291 1292 1293 1294 1295 1296 1297 1298 1299 1300 1301 1302 1303\n",
            " 1304 1305 1306 1307 1308 1309 1310 1311 1312 1313 1314 1315 1316 1317\n",
            " 1318 1319 1320 1321 1322 1323 1324 1325 1326 1327 1328 1329 1330 1331\n",
            " 1332 1333 1334 1335 1336 1337 1338 1339 1340 1341 1342 1343 1344 1345\n",
            " 1346 1347 1348 1349 1350 1351 1352 1353 1354 1355 1356 1357 1358 1359\n",
            " 1360 1361 1362 1363 1364 1365 1366 1367 1368 1369 1370 1371 1372 1373\n",
            " 1374 1375 1376 1377 1378 1379 1380 1381 1382 1383 1384 1385 1386 1387\n",
            " 1388 1389 1390 1391 1392 1393 1394 1395 1396 1397 1398 1399 1400 1401\n",
            " 1402 1403 1404 1405 1406 1407 1408 1409 1410 1411 1412 1413 1414 1415\n",
            " 1416 1417 1418 1419 1420 1421 1422 1423 1424 1425 1426 1427 1428 1429\n",
            " 1430 1431 1432 1433 1434 1435 1436 1437 1438 1439 1440 1441 1442 1443\n",
            " 1444 1445 1446 1447 1448 1449 1450 1451 1452 1453 1454 1455 1456 1457\n",
            " 1458 1459 1460 1461 1462 1463 1464 1465 1466 1467 1468 1469 1470 1471\n",
            " 1472 1473 1474 1475 1476 1477 1478 1479 1480 1481 1482 1483 1484 1485\n",
            " 1486 1487 1488 1489 1490 1491 1492 1493 1494 1495 1496 1497 1498 1499\n",
            " 1500 1501 1502 1503 1504 1505 1506 1507 1508 1509 1510 1511 1512 1513\n",
            " 1514 1515 1516 1517 1518 1519 1520 1521 1522 1523 1524 1525 1526 1527\n",
            " 1528 1529 1530 1531 1532 1533 1534 1535 1536 1537 1538 1539 1540 1541\n",
            " 1542 1543 1544 1545 1546 1547 1548 1549 1550 1551 1552 1553 1554 1555\n",
            " 1556 1557 1558 1559 1560 1561 1562 1563 1564 1565 1566 1567 1568 1569\n",
            " 1570 1571 1572 1573 1574 1575 1576 1577 1578 1579 1580 1581 1582 1583\n",
            " 1584 1585 1586 1587 1588 1589 1590 1591 1592 1593 1594 1595 1596 1597\n",
            " 1598]\n",
            "\n",
            "Epoch 1/10\n",
            "5/5 [==============================] - 1s 145ms/step - loss: 0.2732 - accuracy: 0.9389 - precision: 0.9707 - val_loss: 0.1935 - val_accuracy: 0.9794 - val_precision: 0.9953\n",
            "Epoch 2/10\n",
            "5/5 [==============================] - 1s 123ms/step - loss: 0.2601 - accuracy: 0.9425 - precision: 0.9650 - val_loss: 0.1838 - val_accuracy: 0.9775 - val_precision: 0.9907\n",
            "Epoch 3/10\n",
            "5/5 [==============================] - 1s 132ms/step - loss: 0.2459 - accuracy: 0.9431 - precision: 0.9665 - val_loss: 0.1759 - val_accuracy: 0.9794 - val_precision: 0.9908\n",
            "Epoch 4/10\n",
            "5/5 [==============================] - 1s 122ms/step - loss: 0.2338 - accuracy: 0.9495 - precision: 0.9681 - val_loss: 0.1696 - val_accuracy: 0.9775 - val_precision: 0.9818\n",
            "Epoch 5/10\n",
            "5/5 [==============================] - 1s 128ms/step - loss: 0.2194 - accuracy: 0.9552 - precision: 0.9719 - val_loss: 0.1642 - val_accuracy: 0.9737 - val_precision: 0.9817\n",
            "Epoch 6/10\n",
            "5/5 [==============================] - 1s 124ms/step - loss: 0.2088 - accuracy: 0.9564 - precision: 0.9755 - val_loss: 0.1592 - val_accuracy: 0.9775 - val_precision: 0.9818\n",
            "Epoch 7/10\n",
            "5/5 [==============================] - 1s 124ms/step - loss: 0.1966 - accuracy: 0.9631 - precision: 0.9720 - val_loss: 0.1550 - val_accuracy: 0.9719 - val_precision: 0.9772\n",
            "Epoch 8/10\n",
            "5/5 [==============================] - 1s 126ms/step - loss: 0.1848 - accuracy: 0.9646 - precision: 0.9779 - val_loss: 0.1515 - val_accuracy: 0.9719 - val_precision: 0.9772\n",
            "Epoch 9/10\n",
            "5/5 [==============================] - 1s 125ms/step - loss: 0.1764 - accuracy: 0.9643 - precision: 0.9764 - val_loss: 0.1483 - val_accuracy: 0.9700 - val_precision: 0.9727\n",
            "Epoch 10/10\n",
            "5/5 [==============================] - 1s 114ms/step - loss: 0.1711 - accuracy: 0.9652 - precision: 0.9770 - val_loss: 0.1457 - val_accuracy: 0.9719 - val_precision: 0.9729\n",
            "\n",
            "Train[   0    1    2 ... 5326 5327 5328]    Test[1599 1600 1601 1602 1603 1604 1605 1606 1607 1608 1609 1610 1611 1612\n",
            " 1613 1614 1615 1616 1617 1618 1619 1620 1621 1622 1623 1624 1625 1626\n",
            " 1627 1628 1629 1630 1631 1632 1633 1634 1635 1636 1637 1638 1639 1640\n",
            " 1641 1642 1643 1644 1645 1646 1647 1648 1649 1650 1651 1652 1653 1654\n",
            " 1655 1656 1657 1658 1659 1660 1661 1662 1663 1664 1665 1666 1667 1668\n",
            " 1669 1670 1671 1672 1673 1674 1675 1676 1677 1678 1679 1680 1681 1682\n",
            " 1683 1684 1685 1686 1687 1688 1689 1690 1691 1692 1693 1694 1695 1696\n",
            " 1697 1698 1699 1700 1701 1702 1703 1704 1705 1706 1707 1708 1709 1710\n",
            " 1711 1712 1713 1714 1715 1716 1717 1718 1719 1720 1721 1722 1723 1724\n",
            " 1725 1726 1727 1728 1729 1730 1731 1732 1733 1734 1735 1736 1737 1738\n",
            " 1739 1740 1741 1742 1743 1744 1745 1746 1747 1748 1749 1750 1751 1752\n",
            " 1753 1754 1755 1756 1757 1758 1759 1760 1761 1762 1763 1764 1765 1766\n",
            " 1767 1768 1769 1770 1771 1772 1773 1774 1775 1776 1777 1778 1779 1780\n",
            " 1781 1782 1783 1784 1785 1786 1787 1788 1789 1790 1791 1792 1793 1794\n",
            " 1795 1796 1797 1798 1799 1800 1801 1802 1803 1804 1805 1806 1807 1808\n",
            " 1809 1810 1811 1812 1813 1814 1815 1816 1817 1818 1819 1820 1821 1822\n",
            " 1823 1824 1825 1826 1827 1828 1829 1830 1831 1832 1833 1834 1835 1836\n",
            " 1837 1838 1839 1840 1841 1842 1843 1844 1845 1846 1847 1848 1849 1850\n",
            " 1851 1852 1853 1854 1855 1856 1857 1858 1859 1860 1861 1862 1863 1864\n",
            " 1865 1866 1867 1868 1869 1870 1871 1872 1873 1874 1875 1876 1877 1878\n",
            " 1879 1880 1881 1882 1883 1884 1885 1886 1887 1888 1889 1890 1891 1892\n",
            " 1893 1894 1895 1896 1897 1898 1899 1900 1901 1902 1903 1904 1905 1906\n",
            " 1907 1908 1909 1910 1911 1912 1913 1914 1915 1916 1917 1918 1919 1920\n",
            " 1921 1922 1923 1924 1925 1926 1927 1928 1929 1930 1931 1932 1933 1934\n",
            " 1935 1936 1937 1938 1939 1940 1941 1942 1943 1944 1945 1946 1947 1948\n",
            " 1949 1950 1951 1952 1953 1954 1955 1956 1957 1958 1959 1960 1961 1962\n",
            " 1963 1964 1965 1966 1967 1968 1969 1970 1971 1972 1973 1974 1975 1976\n",
            " 1977 1978 1979 1980 1981 1982 1983 1984 1985 1986 1987 1988 1989 1990\n",
            " 1991 1992 1993 1994 1995 1996 1997 1998 1999 2000 2001 2002 2003 2004\n",
            " 2005 2006 2007 2008 2009 2010 2011 2012 2013 2014 2015 2016 2017 2018\n",
            " 2019 2020 2021 2022 2023 2024 2025 2026 2027 2028 2029 2030 2031 2032\n",
            " 2033 2034 2035 2036 2037 2038 2039 2040 2041 2042 2043 2044 2045 2046\n",
            " 2047 2048 2049 2050 2051 2052 2053 2054 2055 2056 2057 2058 2059 2060\n",
            " 2061 2062 2063 2064 2065 2066 2067 2068 2069 2070 2071 2072 2073 2074\n",
            " 2075 2076 2077 2078 2079 2080 2081 2082 2083 2084 2085 2086 2087 2088\n",
            " 2089 2090 2091 2092 2093 2094 2095 2096 2097 2098 2099 2100 2101 2102\n",
            " 2103 2104 2105 2106 2107 2108 2109 2110 2111 2112 2113 2114 2115 2116\n",
            " 2117 2118 2119 2120 2121 2122 2123 2124 2125 2126 2127 2128 2129 2130\n",
            " 2131]\n",
            "\n",
            "Epoch 1/10\n",
            "5/5 [==============================] - 1s 144ms/step - loss: 0.1657 - accuracy: 0.9687 - precision: 0.9762 - val_loss: 0.0860 - val_accuracy: 0.9944 - val_precision: 0.9954\n",
            "Epoch 2/10\n",
            "5/5 [==============================] - 1s 165ms/step - loss: 0.1597 - accuracy: 0.9677 - precision: 0.9762 - val_loss: 0.0822 - val_accuracy: 0.9944 - val_precision: 0.9954\n",
            "Epoch 3/10\n",
            "5/5 [==============================] - 1s 128ms/step - loss: 0.1499 - accuracy: 0.9693 - precision: 0.9772 - val_loss: 0.0794 - val_accuracy: 0.9944 - val_precision: 0.9954\n",
            "Epoch 4/10\n",
            "5/5 [==============================] - 1s 124ms/step - loss: 0.1455 - accuracy: 0.9719 - precision: 0.9783 - val_loss: 0.0775 - val_accuracy: 0.9887 - val_precision: 0.9908\n",
            "Epoch 5/10\n",
            "5/5 [==============================] - 1s 124ms/step - loss: 0.1343 - accuracy: 0.9787 - precision: 0.9816 - val_loss: 0.0760 - val_accuracy: 0.9887 - val_precision: 0.9908\n",
            "Epoch 6/10\n",
            "5/5 [==============================] - 1s 122ms/step - loss: 0.1292 - accuracy: 0.9766 - precision: 0.9810 - val_loss: 0.0746 - val_accuracy: 0.9906 - val_precision: 0.9954\n",
            "Epoch 7/10\n",
            "5/5 [==============================] - 1s 123ms/step - loss: 0.1212 - accuracy: 0.9800 - precision: 0.9845 - val_loss: 0.0737 - val_accuracy: 0.9906 - val_precision: 0.9954\n",
            "Epoch 8/10\n",
            "5/5 [==============================] - 1s 126ms/step - loss: 0.1207 - accuracy: 0.9823 - precision: 0.9846 - val_loss: 0.0730 - val_accuracy: 0.9906 - val_precision: 0.9954\n",
            "Epoch 9/10\n",
            "5/5 [==============================] - 1s 124ms/step - loss: 0.1153 - accuracy: 0.9760 - precision: 0.9805 - val_loss: 0.0722 - val_accuracy: 0.9887 - val_precision: 0.9954\n",
            "Epoch 10/10\n",
            "5/5 [==============================] - 1s 117ms/step - loss: 0.1106 - accuracy: 0.9810 - precision: 0.9850 - val_loss: 0.0717 - val_accuracy: 0.9869 - val_precision: 0.9953\n",
            "\n",
            "Train[   0    1    2 ... 5326 5327 5328]    Test[2132 2133 2134 2135 2136 2137 2138 2139 2140 2141 2142 2143 2144 2145\n",
            " 2146 2147 2148 2149 2150 2151 2152 2153 2154 2155 2156 2157 2158 2159\n",
            " 2160 2161 2162 2163 2164 2165 2166 2167 2168 2169 2170 2171 2172 2173\n",
            " 2174 2175 2176 2177 2178 2179 2180 2181 2182 2183 2184 2185 2186 2187\n",
            " 2188 2189 2190 2191 2192 2193 2194 2195 2196 2197 2198 2199 2200 2201\n",
            " 2202 2203 2204 2205 2206 2207 2208 2209 2210 2211 2212 2213 2214 2215\n",
            " 2216 2217 2218 2219 2220 2221 2222 2223 2224 2225 2226 2227 2228 2229\n",
            " 2230 2231 2232 2233 2234 2235 2236 2237 2238 2239 2240 2241 2242 2243\n",
            " 2244 2245 2246 2247 2248 2249 2250 2251 2252 2253 2254 2255 2256 2257\n",
            " 2258 2259 2260 2261 2262 2263 2264 2265 2266 2267 2268 2269 2270 2271\n",
            " 2272 2273 2274 2275 2276 2277 2278 2279 2280 2281 2282 2283 2284 2285\n",
            " 2286 2287 2288 2289 2290 2291 2292 2293 2294 2295 2296 2297 2298 2299\n",
            " 2300 2301 2302 2303 2304 2305 2306 2307 2308 2309 2310 2311 2312 2313\n",
            " 2314 2315 2316 2317 2318 2319 2320 2321 2322 2323 2324 2325 2326 2327\n",
            " 2328 2329 2330 2331 2332 2333 2334 2335 2336 2337 2338 2339 2340 2341\n",
            " 2342 2343 2344 2345 2346 2347 2348 2349 2350 2351 2352 2353 2354 2355\n",
            " 2356 2357 2358 2359 2360 2361 2362 2363 2364 2365 2366 2367 2368 2369\n",
            " 2370 2371 2372 2373 2374 2375 2376 2377 2378 2379 2380 2381 2382 2383\n",
            " 2384 2385 2386 2387 2388 2389 2390 2391 2392 2393 2394 2395 2396 2397\n",
            " 2398 2399 2400 2401 2402 2403 2404 2405 2406 2407 2408 2409 2410 2411\n",
            " 2412 2413 2414 2415 2416 2417 2418 2419 2420 2421 2422 2423 2424 2425\n",
            " 2426 2427 2428 2429 2430 2431 2432 2433 2434 2435 2436 2437 2438 2439\n",
            " 2440 2441 2442 2443 2444 2445 2446 2447 2448 2449 2450 2451 2452 2453\n",
            " 2454 2455 2456 2457 2458 2459 2460 2461 2462 2463 2464 2465 2466 2467\n",
            " 2468 2469 2470 2471 2472 2473 2474 2475 2476 2477 2478 2479 2480 2481\n",
            " 2482 2483 2484 2485 2486 2487 2488 2489 2490 2491 2492 2493 2494 2495\n",
            " 2496 2497 2498 2499 2500 2501 2502 2503 2504 2505 2506 2507 2508 2509\n",
            " 2510 2511 2512 2513 2514 2515 2516 2517 2518 2519 2520 2521 2522 2523\n",
            " 2524 2525 2526 2527 2528 2529 2530 2531 2532 2533 2534 2535 2536 2537\n",
            " 2538 2539 2540 2541 2542 2543 2544 2545 2546 2547 2548 2549 2550 2551\n",
            " 2552 2553 2554 2555 2556 2557 2558 2559 2560 2561 2562 2563 2564 2565\n",
            " 2566 2567 2568 2569 2570 2571 2572 2573 2574 2575 2576 2577 2578 2579\n",
            " 2580 2581 2582 2583 2584 2585 2586 2587 2588 2589 2590 2591 2592 2593\n",
            " 2594 2595 2596 2597 2598 2599 2600 2601 2602 2603 2604 2605 2606 2607\n",
            " 2608 2609 2610 2611 2612 2613 2614 2615 2616 2617 2618 2619 2620 2621\n",
            " 2622 2623 2624 2625 2626 2627 2628 2629 2630 2631 2632 2633 2634 2635\n",
            " 2636 2637 2638 2639 2640 2641 2642 2643 2644 2645 2646 2647 2648 2649\n",
            " 2650 2651 2652 2653 2654 2655 2656 2657 2658 2659 2660 2661 2662 2663\n",
            " 2664]\n",
            "\n",
            "Epoch 1/10\n",
            "5/5 [==============================] - 1s 140ms/step - loss: 0.1036 - accuracy: 0.9827 - precision: 0.9846 - val_loss: 0.0472 - val_accuracy: 0.9962 - val_precision: 0.9956\n",
            "Epoch 2/10\n",
            "5/5 [==============================] - 1s 123ms/step - loss: 0.1041 - accuracy: 0.9831 - precision: 0.9899 - val_loss: 0.0455 - val_accuracy: 0.9962 - val_precision: 0.9956\n",
            "Epoch 3/10\n",
            "5/5 [==============================] - 1s 125ms/step - loss: 0.0980 - accuracy: 0.9823 - precision: 0.9870 - val_loss: 0.0442 - val_accuracy: 0.9962 - val_precision: 0.9956\n",
            "Epoch 4/10\n",
            "5/5 [==============================] - 1s 124ms/step - loss: 0.0997 - accuracy: 0.9817 - precision: 0.9845 - val_loss: 0.0435 - val_accuracy: 0.9962 - val_precision: 0.9956\n",
            "Epoch 5/10\n",
            "5/5 [==============================] - 1s 123ms/step - loss: 0.0898 - accuracy: 0.9852 - precision: 0.9875 - val_loss: 0.0430 - val_accuracy: 0.9962 - val_precision: 0.9956\n",
            "Epoch 6/10\n",
            "5/5 [==============================] - 1s 131ms/step - loss: 0.0860 - accuracy: 0.9869 - precision: 0.9890 - val_loss: 0.0427 - val_accuracy: 0.9944 - val_precision: 0.9956\n",
            "Epoch 7/10\n",
            "5/5 [==============================] - 1s 122ms/step - loss: 0.0824 - accuracy: 0.9877 - precision: 0.9900 - val_loss: 0.0426 - val_accuracy: 0.9925 - val_precision: 0.9955\n",
            "Epoch 8/10\n",
            "5/5 [==============================] - 1s 124ms/step - loss: 0.0787 - accuracy: 0.9864 - precision: 0.9925 - val_loss: 0.0426 - val_accuracy: 0.9925 - val_precision: 0.9955\n",
            "Epoch 9/10\n",
            "5/5 [==============================] - 1s 126ms/step - loss: 0.0788 - accuracy: 0.9867 - precision: 0.9900 - val_loss: 0.0423 - val_accuracy: 0.9925 - val_precision: 0.9955\n",
            "Epoch 10/10\n",
            "5/5 [==============================] - 1s 113ms/step - loss: 0.0771 - accuracy: 0.9862 - precision: 0.9885 - val_loss: 0.0420 - val_accuracy: 0.9925 - val_precision: 0.9955\n",
            "\n",
            "Train[   0    1    2 ... 5326 5327 5328]    Test[2665 2666 2667 2668 2669 2670 2671 2672 2673 2674 2675 2676 2677 2678\n",
            " 2679 2680 2681 2682 2683 2684 2685 2686 2687 2688 2689 2690 2691 2692\n",
            " 2693 2694 2695 2696 2697 2698 2699 2700 2701 2702 2703 2704 2705 2706\n",
            " 2707 2708 2709 2710 2711 2712 2713 2714 2715 2716 2717 2718 2719 2720\n",
            " 2721 2722 2723 2724 2725 2726 2727 2728 2729 2730 2731 2732 2733 2734\n",
            " 2735 2736 2737 2738 2739 2740 2741 2742 2743 2744 2745 2746 2747 2748\n",
            " 2749 2750 2751 2752 2753 2754 2755 2756 2757 2758 2759 2760 2761 2762\n",
            " 2763 2764 2765 2766 2767 2768 2769 2770 2771 2772 2773 2774 2775 2776\n",
            " 2777 2778 2779 2780 2781 2782 2783 2784 2785 2786 2787 2788 2789 2790\n",
            " 2791 2792 2793 2794 2795 2796 2797 2798 2799 2800 2801 2802 2803 2804\n",
            " 2805 2806 2807 2808 2809 2810 2811 2812 2813 2814 2815 2816 2817 2818\n",
            " 2819 2820 2821 2822 2823 2824 2825 2826 2827 2828 2829 2830 2831 2832\n",
            " 2833 2834 2835 2836 2837 2838 2839 2840 2841 2842 2843 2844 2845 2846\n",
            " 2847 2848 2849 2850 2851 2852 2853 2854 2855 2856 2857 2858 2859 2860\n",
            " 2861 2862 2863 2864 2865 2866 2867 2868 2869 2870 2871 2872 2873 2874\n",
            " 2875 2876 2877 2878 2879 2880 2881 2882 2883 2884 2885 2886 2887 2888\n",
            " 2889 2890 2891 2892 2893 2894 2895 2896 2897 2898 2899 2900 2901 2902\n",
            " 2903 2904 2905 2906 2907 2908 2909 2910 2911 2912 2913 2914 2915 2916\n",
            " 2917 2918 2919 2920 2921 2922 2923 2924 2925 2926 2927 2928 2929 2930\n",
            " 2931 2932 2933 2934 2935 2936 2937 2938 2939 2940 2941 2942 2943 2944\n",
            " 2945 2946 2947 2948 2949 2950 2951 2952 2953 2954 2955 2956 2957 2958\n",
            " 2959 2960 2961 2962 2963 2964 2965 2966 2967 2968 2969 2970 2971 2972\n",
            " 2973 2974 2975 2976 2977 2978 2979 2980 2981 2982 2983 2984 2985 2986\n",
            " 2987 2988 2989 2990 2991 2992 2993 2994 2995 2996 2997 2998 2999 3000\n",
            " 3001 3002 3003 3004 3005 3006 3007 3008 3009 3010 3011 3012 3013 3014\n",
            " 3015 3016 3017 3018 3019 3020 3021 3022 3023 3024 3025 3026 3027 3028\n",
            " 3029 3030 3031 3032 3033 3034 3035 3036 3037 3038 3039 3040 3041 3042\n",
            " 3043 3044 3045 3046 3047 3048 3049 3050 3051 3052 3053 3054 3055 3056\n",
            " 3057 3058 3059 3060 3061 3062 3063 3064 3065 3066 3067 3068 3069 3070\n",
            " 3071 3072 3073 3074 3075 3076 3077 3078 3079 3080 3081 3082 3083 3084\n",
            " 3085 3086 3087 3088 3089 3090 3091 3092 3093 3094 3095 3096 3097 3098\n",
            " 3099 3100 3101 3102 3103 3104 3105 3106 3107 3108 3109 3110 3111 3112\n",
            " 3113 3114 3115 3116 3117 3118 3119 3120 3121 3122 3123 3124 3125 3126\n",
            " 3127 3128 3129 3130 3131 3132 3133 3134 3135 3136 3137 3138 3139 3140\n",
            " 3141 3142 3143 3144 3145 3146 3147 3148 3149 3150 3151 3152 3153 3154\n",
            " 3155 3156 3157 3158 3159 3160 3161 3162 3163 3164 3165 3166 3167 3168\n",
            " 3169 3170 3171 3172 3173 3174 3175 3176 3177 3178 3179 3180 3181 3182\n",
            " 3183 3184 3185 3186 3187 3188 3189 3190 3191 3192 3193 3194 3195 3196\n",
            " 3197]\n",
            "\n",
            "Epoch 1/10\n",
            "5/5 [==============================] - 1s 151ms/step - loss: 0.0732 - accuracy: 0.9896 - precision: 0.9925 - val_loss: 0.0369 - val_accuracy: 0.9944 - val_precision: 0.9957\n",
            "Epoch 2/10\n",
            "5/5 [==============================] - 1s 139ms/step - loss: 0.0678 - accuracy: 0.9900 - precision: 0.9910 - val_loss: 0.0371 - val_accuracy: 0.9944 - val_precision: 0.9957\n",
            "Epoch 3/10\n",
            "5/5 [==============================] - 1s 126ms/step - loss: 0.0697 - accuracy: 0.9883 - precision: 0.9900 - val_loss: 0.0378 - val_accuracy: 0.9925 - val_precision: 0.9957\n",
            "Epoch 4/10\n",
            "5/5 [==============================] - 1s 127ms/step - loss: 0.0649 - accuracy: 0.9894 - precision: 0.9920 - val_loss: 0.0387 - val_accuracy: 0.9925 - val_precision: 0.9957\n",
            "Epoch 5/10\n",
            "5/5 [==============================] - 1s 129ms/step - loss: 0.0669 - accuracy: 0.9877 - precision: 0.9900 - val_loss: 0.0398 - val_accuracy: 0.9925 - val_precision: 0.9957\n",
            "Epoch 6/10\n",
            "5/5 [==============================] - 1s 128ms/step - loss: 0.0616 - accuracy: 0.9912 - precision: 0.9925 - val_loss: 0.0409 - val_accuracy: 0.9906 - val_precision: 0.9913\n",
            "Epoch 7/10\n",
            "5/5 [==============================] - 1s 130ms/step - loss: 0.0585 - accuracy: 0.9929 - precision: 0.9940 - val_loss: 0.0419 - val_accuracy: 0.9906 - val_precision: 0.9913\n",
            "Epoch 8/10\n",
            "5/5 [==============================] - 1s 126ms/step - loss: 0.0571 - accuracy: 0.9917 - precision: 0.9916 - val_loss: 0.0426 - val_accuracy: 0.9906 - val_precision: 0.9913\n",
            "Epoch 9/10\n",
            "5/5 [==============================] - 1s 123ms/step - loss: 0.0584 - accuracy: 0.9902 - precision: 0.9920 - val_loss: 0.0433 - val_accuracy: 0.9906 - val_precision: 0.9913\n",
            "Epoch 10/10\n",
            "5/5 [==============================] - 1s 116ms/step - loss: 0.0550 - accuracy: 0.9921 - precision: 0.9911 - val_loss: 0.0440 - val_accuracy: 0.9906 - val_precision: 0.9913\n",
            "\n",
            "Train[   0    1    2 ... 5326 5327 5328]    Test[3198 3199 3200 3201 3202 3203 3204 3205 3206 3207 3208 3209 3210 3211\n",
            " 3212 3213 3214 3215 3216 3217 3218 3219 3220 3221 3222 3223 3224 3225\n",
            " 3226 3227 3228 3229 3230 3231 3232 3233 3234 3235 3236 3237 3238 3239\n",
            " 3240 3241 3242 3243 3244 3245 3246 3247 3248 3249 3250 3251 3252 3253\n",
            " 3254 3255 3256 3257 3258 3259 3260 3261 3262 3263 3264 3265 3266 3267\n",
            " 3268 3269 3270 3271 3272 3273 3274 3275 3276 3277 3278 3279 3280 3281\n",
            " 3282 3283 3284 3285 3286 3287 3288 3289 3290 3291 3292 3293 3294 3295\n",
            " 3296 3297 3298 3299 3300 3301 3302 3303 3304 3305 3306 3307 3308 3309\n",
            " 3310 3311 3312 3313 3314 3315 3316 3317 3318 3319 3320 3321 3322 3323\n",
            " 3324 3325 3326 3327 3328 3329 3330 3331 3332 3333 3334 3335 3336 3337\n",
            " 3338 3339 3340 3341 3342 3343 3344 3345 3346 3347 3348 3349 3350 3351\n",
            " 3352 3353 3354 3355 3356 3357 3358 3359 3360 3361 3362 3363 3364 3365\n",
            " 3366 3367 3368 3369 3370 3371 3372 3373 3374 3375 3376 3377 3378 3379\n",
            " 3380 3381 3382 3383 3384 3385 3386 3387 3388 3389 3390 3391 3392 3393\n",
            " 3394 3395 3396 3397 3398 3399 3400 3401 3402 3403 3404 3405 3406 3407\n",
            " 3408 3409 3410 3411 3412 3413 3414 3415 3416 3417 3418 3419 3420 3421\n",
            " 3422 3423 3424 3425 3426 3427 3428 3429 3430 3431 3432 3433 3434 3435\n",
            " 3436 3437 3438 3439 3440 3441 3442 3443 3444 3445 3446 3447 3448 3449\n",
            " 3450 3451 3452 3453 3454 3455 3456 3457 3458 3459 3460 3461 3462 3463\n",
            " 3464 3465 3466 3467 3468 3469 3470 3471 3472 3473 3474 3475 3476 3477\n",
            " 3478 3479 3480 3481 3482 3483 3484 3485 3486 3487 3488 3489 3490 3491\n",
            " 3492 3493 3494 3495 3496 3497 3498 3499 3500 3501 3502 3503 3504 3505\n",
            " 3506 3507 3508 3509 3510 3511 3512 3513 3514 3515 3516 3517 3518 3519\n",
            " 3520 3521 3522 3523 3524 3525 3526 3527 3528 3529 3530 3531 3532 3533\n",
            " 3534 3535 3536 3537 3538 3539 3540 3541 3542 3543 3544 3545 3546 3547\n",
            " 3548 3549 3550 3551 3552 3553 3554 3555 3556 3557 3558 3559 3560 3561\n",
            " 3562 3563 3564 3565 3566 3567 3568 3569 3570 3571 3572 3573 3574 3575\n",
            " 3576 3577 3578 3579 3580 3581 3582 3583 3584 3585 3586 3587 3588 3589\n",
            " 3590 3591 3592 3593 3594 3595 3596 3597 3598 3599 3600 3601 3602 3603\n",
            " 3604 3605 3606 3607 3608 3609 3610 3611 3612 3613 3614 3615 3616 3617\n",
            " 3618 3619 3620 3621 3622 3623 3624 3625 3626 3627 3628 3629 3630 3631\n",
            " 3632 3633 3634 3635 3636 3637 3638 3639 3640 3641 3642 3643 3644 3645\n",
            " 3646 3647 3648 3649 3650 3651 3652 3653 3654 3655 3656 3657 3658 3659\n",
            " 3660 3661 3662 3663 3664 3665 3666 3667 3668 3669 3670 3671 3672 3673\n",
            " 3674 3675 3676 3677 3678 3679 3680 3681 3682 3683 3684 3685 3686 3687\n",
            " 3688 3689 3690 3691 3692 3693 3694 3695 3696 3697 3698 3699 3700 3701\n",
            " 3702 3703 3704 3705 3706 3707 3708 3709 3710 3711 3712 3713 3714 3715\n",
            " 3716 3717 3718 3719 3720 3721 3722 3723 3724 3725 3726 3727 3728 3729\n",
            " 3730]\n",
            "\n",
            "Epoch 1/10\n",
            "5/5 [==============================] - 1s 143ms/step - loss: 0.0581 - accuracy: 0.9902 - precision: 0.9925 - val_loss: 0.0191 - val_accuracy: 0.9981 - val_precision: 1.0000\n",
            "Epoch 2/10\n",
            "5/5 [==============================] - 1s 129ms/step - loss: 0.0537 - accuracy: 0.9906 - precision: 0.9911 - val_loss: 0.0191 - val_accuracy: 0.9981 - val_precision: 1.0000\n",
            "Epoch 3/10\n",
            "5/5 [==============================] - 1s 127ms/step - loss: 0.0527 - accuracy: 0.9892 - precision: 0.9915 - val_loss: 0.0193 - val_accuracy: 0.9962 - val_precision: 0.9956\n",
            "Epoch 4/10\n",
            "5/5 [==============================] - 1s 132ms/step - loss: 0.0525 - accuracy: 0.9912 - precision: 0.9921 - val_loss: 0.0194 - val_accuracy: 0.9962 - val_precision: 0.9956\n",
            "Epoch 5/10\n",
            "5/5 [==============================] - 1s 126ms/step - loss: 0.0500 - accuracy: 0.9908 - precision: 0.9906 - val_loss: 0.0196 - val_accuracy: 0.9962 - val_precision: 0.9956\n",
            "Epoch 6/10\n",
            "5/5 [==============================] - 1s 127ms/step - loss: 0.0521 - accuracy: 0.9898 - precision: 0.9911 - val_loss: 0.0200 - val_accuracy: 0.9944 - val_precision: 0.9912\n",
            "Epoch 7/10\n",
            "5/5 [==============================] - 1s 129ms/step - loss: 0.0476 - accuracy: 0.9923 - precision: 0.9940 - val_loss: 0.0203 - val_accuracy: 0.9944 - val_precision: 0.9912\n",
            "Epoch 8/10\n",
            "5/5 [==============================] - 1s 126ms/step - loss: 0.0453 - accuracy: 0.9915 - precision: 0.9916 - val_loss: 0.0208 - val_accuracy: 0.9944 - val_precision: 0.9912\n",
            "Epoch 9/10\n",
            "5/5 [==============================] - 1s 131ms/step - loss: 0.0452 - accuracy: 0.9917 - precision: 0.9916 - val_loss: 0.0212 - val_accuracy: 0.9944 - val_precision: 0.9912\n",
            "Epoch 10/10\n",
            "5/5 [==============================] - 1s 116ms/step - loss: 0.0437 - accuracy: 0.9915 - precision: 0.9911 - val_loss: 0.0214 - val_accuracy: 0.9944 - val_precision: 0.9912\n",
            "\n",
            "Train[   0    1    2 ... 5326 5327 5328]    Test[3731 3732 3733 3734 3735 3736 3737 3738 3739 3740 3741 3742 3743 3744\n",
            " 3745 3746 3747 3748 3749 3750 3751 3752 3753 3754 3755 3756 3757 3758\n",
            " 3759 3760 3761 3762 3763 3764 3765 3766 3767 3768 3769 3770 3771 3772\n",
            " 3773 3774 3775 3776 3777 3778 3779 3780 3781 3782 3783 3784 3785 3786\n",
            " 3787 3788 3789 3790 3791 3792 3793 3794 3795 3796 3797 3798 3799 3800\n",
            " 3801 3802 3803 3804 3805 3806 3807 3808 3809 3810 3811 3812 3813 3814\n",
            " 3815 3816 3817 3818 3819 3820 3821 3822 3823 3824 3825 3826 3827 3828\n",
            " 3829 3830 3831 3832 3833 3834 3835 3836 3837 3838 3839 3840 3841 3842\n",
            " 3843 3844 3845 3846 3847 3848 3849 3850 3851 3852 3853 3854 3855 3856\n",
            " 3857 3858 3859 3860 3861 3862 3863 3864 3865 3866 3867 3868 3869 3870\n",
            " 3871 3872 3873 3874 3875 3876 3877 3878 3879 3880 3881 3882 3883 3884\n",
            " 3885 3886 3887 3888 3889 3890 3891 3892 3893 3894 3895 3896 3897 3898\n",
            " 3899 3900 3901 3902 3903 3904 3905 3906 3907 3908 3909 3910 3911 3912\n",
            " 3913 3914 3915 3916 3917 3918 3919 3920 3921 3922 3923 3924 3925 3926\n",
            " 3927 3928 3929 3930 3931 3932 3933 3934 3935 3936 3937 3938 3939 3940\n",
            " 3941 3942 3943 3944 3945 3946 3947 3948 3949 3950 3951 3952 3953 3954\n",
            " 3955 3956 3957 3958 3959 3960 3961 3962 3963 3964 3965 3966 3967 3968\n",
            " 3969 3970 3971 3972 3973 3974 3975 3976 3977 3978 3979 3980 3981 3982\n",
            " 3983 3984 3985 3986 3987 3988 3989 3990 3991 3992 3993 3994 3995 3996\n",
            " 3997 3998 3999 4000 4001 4002 4003 4004 4005 4006 4007 4008 4009 4010\n",
            " 4011 4012 4013 4014 4015 4016 4017 4018 4019 4020 4021 4022 4023 4024\n",
            " 4025 4026 4027 4028 4029 4030 4031 4032 4033 4034 4035 4036 4037 4038\n",
            " 4039 4040 4041 4042 4043 4044 4045 4046 4047 4048 4049 4050 4051 4052\n",
            " 4053 4054 4055 4056 4057 4058 4059 4060 4061 4062 4063 4064 4065 4066\n",
            " 4067 4068 4069 4070 4071 4072 4073 4074 4075 4076 4077 4078 4079 4080\n",
            " 4081 4082 4083 4084 4085 4086 4087 4088 4089 4090 4091 4092 4093 4094\n",
            " 4095 4096 4097 4098 4099 4100 4101 4102 4103 4104 4105 4106 4107 4108\n",
            " 4109 4110 4111 4112 4113 4114 4115 4116 4117 4118 4119 4120 4121 4122\n",
            " 4123 4124 4125 4126 4127 4128 4129 4130 4131 4132 4133 4134 4135 4136\n",
            " 4137 4138 4139 4140 4141 4142 4143 4144 4145 4146 4147 4148 4149 4150\n",
            " 4151 4152 4153 4154 4155 4156 4157 4158 4159 4160 4161 4162 4163 4164\n",
            " 4165 4166 4167 4168 4169 4170 4171 4172 4173 4174 4175 4176 4177 4178\n",
            " 4179 4180 4181 4182 4183 4184 4185 4186 4187 4188 4189 4190 4191 4192\n",
            " 4193 4194 4195 4196 4197 4198 4199 4200 4201 4202 4203 4204 4205 4206\n",
            " 4207 4208 4209 4210 4211 4212 4213 4214 4215 4216 4217 4218 4219 4220\n",
            " 4221 4222 4223 4224 4225 4226 4227 4228 4229 4230 4231 4232 4233 4234\n",
            " 4235 4236 4237 4238 4239 4240 4241 4242 4243 4244 4245 4246 4247 4248\n",
            " 4249 4250 4251 4252 4253 4254 4255 4256 4257 4258 4259 4260 4261 4262\n",
            " 4263]\n",
            "\n",
            "Epoch 1/10\n",
            "5/5 [==============================] - 1s 277ms/step - loss: 0.0430 - accuracy: 0.9921 - precision: 0.9921 - val_loss: 0.0210 - val_accuracy: 0.9925 - val_precision: 0.9952\n",
            "Epoch 2/10\n",
            "5/5 [==============================] - 1s 130ms/step - loss: 0.0450 - accuracy: 0.9923 - precision: 0.9941 - val_loss: 0.0213 - val_accuracy: 0.9925 - val_precision: 0.9952\n",
            "Epoch 3/10\n",
            "5/5 [==============================] - 1s 133ms/step - loss: 0.0422 - accuracy: 0.9935 - precision: 0.9931 - val_loss: 0.0221 - val_accuracy: 0.9925 - val_precision: 0.9952\n",
            "Epoch 4/10\n",
            "5/5 [==============================] - 1s 127ms/step - loss: 0.0397 - accuracy: 0.9946 - precision: 0.9941 - val_loss: 0.0234 - val_accuracy: 0.9906 - val_precision: 0.9905\n",
            "Epoch 5/10\n",
            "5/5 [==============================] - 1s 128ms/step - loss: 0.0416 - accuracy: 0.9935 - precision: 0.9931 - val_loss: 0.0247 - val_accuracy: 0.9906 - val_precision: 0.9905\n",
            "Epoch 6/10\n",
            "5/5 [==============================] - 1s 125ms/step - loss: 0.0393 - accuracy: 0.9933 - precision: 0.9941 - val_loss: 0.0256 - val_accuracy: 0.9887 - val_precision: 0.9904\n",
            "Epoch 7/10\n",
            "5/5 [==============================] - 1s 128ms/step - loss: 0.0374 - accuracy: 0.9935 - precision: 0.9927 - val_loss: 0.0264 - val_accuracy: 0.9887 - val_precision: 0.9904\n",
            "Epoch 8/10\n",
            "5/5 [==============================] - 1s 124ms/step - loss: 0.0356 - accuracy: 0.9954 - precision: 0.9956 - val_loss: 0.0269 - val_accuracy: 0.9887 - val_precision: 0.9904\n",
            "Epoch 9/10\n",
            "5/5 [==============================] - 1s 129ms/step - loss: 0.0370 - accuracy: 0.9931 - precision: 0.9926 - val_loss: 0.0277 - val_accuracy: 0.9887 - val_precision: 0.9904\n",
            "Epoch 10/10\n",
            "5/5 [==============================] - 1s 119ms/step - loss: 0.0372 - accuracy: 0.9935 - precision: 0.9917 - val_loss: 0.0284 - val_accuracy: 0.9887 - val_precision: 0.9904\n",
            "\n",
            "Train[   0    1    2 ... 5326 5327 5328]    Test[4264 4265 4266 4267 4268 4269 4270 4271 4272 4273 4274 4275 4276 4277\n",
            " 4278 4279 4280 4281 4282 4283 4284 4285 4286 4287 4288 4289 4290 4291\n",
            " 4292 4293 4294 4295 4296 4297 4298 4299 4300 4301 4302 4303 4304 4305\n",
            " 4306 4307 4308 4309 4310 4311 4312 4313 4314 4315 4316 4317 4318 4319\n",
            " 4320 4321 4322 4323 4324 4325 4326 4327 4328 4329 4330 4331 4332 4333\n",
            " 4334 4335 4336 4337 4338 4339 4340 4341 4342 4343 4344 4345 4346 4347\n",
            " 4348 4349 4350 4351 4352 4353 4354 4355 4356 4357 4358 4359 4360 4361\n",
            " 4362 4363 4364 4365 4366 4367 4368 4369 4370 4371 4372 4373 4374 4375\n",
            " 4376 4377 4378 4379 4380 4381 4382 4383 4384 4385 4386 4387 4388 4389\n",
            " 4390 4391 4392 4393 4394 4395 4396 4397 4398 4399 4400 4401 4402 4403\n",
            " 4404 4405 4406 4407 4408 4409 4410 4411 4412 4413 4414 4415 4416 4417\n",
            " 4418 4419 4420 4421 4422 4423 4424 4425 4426 4427 4428 4429 4430 4431\n",
            " 4432 4433 4434 4435 4436 4437 4438 4439 4440 4441 4442 4443 4444 4445\n",
            " 4446 4447 4448 4449 4450 4451 4452 4453 4454 4455 4456 4457 4458 4459\n",
            " 4460 4461 4462 4463 4464 4465 4466 4467 4468 4469 4470 4471 4472 4473\n",
            " 4474 4475 4476 4477 4478 4479 4480 4481 4482 4483 4484 4485 4486 4487\n",
            " 4488 4489 4490 4491 4492 4493 4494 4495 4496 4497 4498 4499 4500 4501\n",
            " 4502 4503 4504 4505 4506 4507 4508 4509 4510 4511 4512 4513 4514 4515\n",
            " 4516 4517 4518 4519 4520 4521 4522 4523 4524 4525 4526 4527 4528 4529\n",
            " 4530 4531 4532 4533 4534 4535 4536 4537 4538 4539 4540 4541 4542 4543\n",
            " 4544 4545 4546 4547 4548 4549 4550 4551 4552 4553 4554 4555 4556 4557\n",
            " 4558 4559 4560 4561 4562 4563 4564 4565 4566 4567 4568 4569 4570 4571\n",
            " 4572 4573 4574 4575 4576 4577 4578 4579 4580 4581 4582 4583 4584 4585\n",
            " 4586 4587 4588 4589 4590 4591 4592 4593 4594 4595 4596 4597 4598 4599\n",
            " 4600 4601 4602 4603 4604 4605 4606 4607 4608 4609 4610 4611 4612 4613\n",
            " 4614 4615 4616 4617 4618 4619 4620 4621 4622 4623 4624 4625 4626 4627\n",
            " 4628 4629 4630 4631 4632 4633 4634 4635 4636 4637 4638 4639 4640 4641\n",
            " 4642 4643 4644 4645 4646 4647 4648 4649 4650 4651 4652 4653 4654 4655\n",
            " 4656 4657 4658 4659 4660 4661 4662 4663 4664 4665 4666 4667 4668 4669\n",
            " 4670 4671 4672 4673 4674 4675 4676 4677 4678 4679 4680 4681 4682 4683\n",
            " 4684 4685 4686 4687 4688 4689 4690 4691 4692 4693 4694 4695 4696 4697\n",
            " 4698 4699 4700 4701 4702 4703 4704 4705 4706 4707 4708 4709 4710 4711\n",
            " 4712 4713 4714 4715 4716 4717 4718 4719 4720 4721 4722 4723 4724 4725\n",
            " 4726 4727 4728 4729 4730 4731 4732 4733 4734 4735 4736 4737 4738 4739\n",
            " 4740 4741 4742 4743 4744 4745 4746 4747 4748 4749 4750 4751 4752 4753\n",
            " 4754 4755 4756 4757 4758 4759 4760 4761 4762 4763 4764 4765 4766 4767\n",
            " 4768 4769 4770 4771 4772 4773 4774 4775 4776 4777 4778 4779 4780 4781\n",
            " 4782 4783 4784 4785 4786 4787 4788 4789 4790 4791 4792 4793 4794 4795\n",
            " 4796]\n",
            "\n",
            "Epoch 1/10\n",
            "5/5 [==============================] - 1s 147ms/step - loss: 0.0372 - accuracy: 0.9944 - precision: 0.9951 - val_loss: 0.0129 - val_accuracy: 0.9944 - val_precision: 0.9911\n",
            "Epoch 2/10\n",
            "5/5 [==============================] - 1s 126ms/step - loss: 0.0395 - accuracy: 0.9912 - precision: 0.9931 - val_loss: 0.0136 - val_accuracy: 0.9944 - val_precision: 0.9911\n",
            "Epoch 3/10\n",
            "5/5 [==============================] - 1s 131ms/step - loss: 0.0342 - accuracy: 0.9948 - precision: 0.9946 - val_loss: 0.0142 - val_accuracy: 0.9944 - val_precision: 0.9911\n",
            "Epoch 4/10\n",
            "5/5 [==============================] - 1s 127ms/step - loss: 0.0350 - accuracy: 0.9937 - precision: 0.9941 - val_loss: 0.0148 - val_accuracy: 0.9944 - val_precision: 0.9911\n",
            "Epoch 5/10\n",
            "5/5 [==============================] - 1s 134ms/step - loss: 0.0373 - accuracy: 0.9908 - precision: 0.9882 - val_loss: 0.0153 - val_accuracy: 0.9944 - val_precision: 0.9911\n",
            "Epoch 6/10\n",
            "5/5 [==============================] - 1s 128ms/step - loss: 0.0320 - accuracy: 0.9944 - precision: 0.9955 - val_loss: 0.0160 - val_accuracy: 0.9944 - val_precision: 0.9911\n",
            "Epoch 7/10\n",
            "5/5 [==============================] - 1s 126ms/step - loss: 0.0331 - accuracy: 0.9940 - precision: 0.9936 - val_loss: 0.0166 - val_accuracy: 0.9925 - val_precision: 0.9867\n",
            "Epoch 8/10\n",
            "5/5 [==============================] - 1s 125ms/step - loss: 0.0315 - accuracy: 0.9940 - precision: 0.9955 - val_loss: 0.0170 - val_accuracy: 0.9944 - val_precision: 0.9911\n",
            "Epoch 9/10\n",
            "5/5 [==============================] - 1s 128ms/step - loss: 0.0310 - accuracy: 0.9954 - precision: 0.9960 - val_loss: 0.0175 - val_accuracy: 0.9944 - val_precision: 0.9911\n",
            "Epoch 10/10\n",
            "5/5 [==============================] - 1s 117ms/step - loss: 0.0326 - accuracy: 0.9937 - precision: 0.9951 - val_loss: 0.0179 - val_accuracy: 0.9944 - val_precision: 0.9911\n",
            "\n",
            "Train[   0    1    2 ... 4794 4795 4796]    Test[4797 4798 4799 4800 4801 4802 4803 4804 4805 4806 4807 4808 4809 4810\n",
            " 4811 4812 4813 4814 4815 4816 4817 4818 4819 4820 4821 4822 4823 4824\n",
            " 4825 4826 4827 4828 4829 4830 4831 4832 4833 4834 4835 4836 4837 4838\n",
            " 4839 4840 4841 4842 4843 4844 4845 4846 4847 4848 4849 4850 4851 4852\n",
            " 4853 4854 4855 4856 4857 4858 4859 4860 4861 4862 4863 4864 4865 4866\n",
            " 4867 4868 4869 4870 4871 4872 4873 4874 4875 4876 4877 4878 4879 4880\n",
            " 4881 4882 4883 4884 4885 4886 4887 4888 4889 4890 4891 4892 4893 4894\n",
            " 4895 4896 4897 4898 4899 4900 4901 4902 4903 4904 4905 4906 4907 4908\n",
            " 4909 4910 4911 4912 4913 4914 4915 4916 4917 4918 4919 4920 4921 4922\n",
            " 4923 4924 4925 4926 4927 4928 4929 4930 4931 4932 4933 4934 4935 4936\n",
            " 4937 4938 4939 4940 4941 4942 4943 4944 4945 4946 4947 4948 4949 4950\n",
            " 4951 4952 4953 4954 4955 4956 4957 4958 4959 4960 4961 4962 4963 4964\n",
            " 4965 4966 4967 4968 4969 4970 4971 4972 4973 4974 4975 4976 4977 4978\n",
            " 4979 4980 4981 4982 4983 4984 4985 4986 4987 4988 4989 4990 4991 4992\n",
            " 4993 4994 4995 4996 4997 4998 4999 5000 5001 5002 5003 5004 5005 5006\n",
            " 5007 5008 5009 5010 5011 5012 5013 5014 5015 5016 5017 5018 5019 5020\n",
            " 5021 5022 5023 5024 5025 5026 5027 5028 5029 5030 5031 5032 5033 5034\n",
            " 5035 5036 5037 5038 5039 5040 5041 5042 5043 5044 5045 5046 5047 5048\n",
            " 5049 5050 5051 5052 5053 5054 5055 5056 5057 5058 5059 5060 5061 5062\n",
            " 5063 5064 5065 5066 5067 5068 5069 5070 5071 5072 5073 5074 5075 5076\n",
            " 5077 5078 5079 5080 5081 5082 5083 5084 5085 5086 5087 5088 5089 5090\n",
            " 5091 5092 5093 5094 5095 5096 5097 5098 5099 5100 5101 5102 5103 5104\n",
            " 5105 5106 5107 5108 5109 5110 5111 5112 5113 5114 5115 5116 5117 5118\n",
            " 5119 5120 5121 5122 5123 5124 5125 5126 5127 5128 5129 5130 5131 5132\n",
            " 5133 5134 5135 5136 5137 5138 5139 5140 5141 5142 5143 5144 5145 5146\n",
            " 5147 5148 5149 5150 5151 5152 5153 5154 5155 5156 5157 5158 5159 5160\n",
            " 5161 5162 5163 5164 5165 5166 5167 5168 5169 5170 5171 5172 5173 5174\n",
            " 5175 5176 5177 5178 5179 5180 5181 5182 5183 5184 5185 5186 5187 5188\n",
            " 5189 5190 5191 5192 5193 5194 5195 5196 5197 5198 5199 5200 5201 5202\n",
            " 5203 5204 5205 5206 5207 5208 5209 5210 5211 5212 5213 5214 5215 5216\n",
            " 5217 5218 5219 5220 5221 5222 5223 5224 5225 5226 5227 5228 5229 5230\n",
            " 5231 5232 5233 5234 5235 5236 5237 5238 5239 5240 5241 5242 5243 5244\n",
            " 5245 5246 5247 5248 5249 5250 5251 5252 5253 5254 5255 5256 5257 5258\n",
            " 5259 5260 5261 5262 5263 5264 5265 5266 5267 5268 5269 5270 5271 5272\n",
            " 5273 5274 5275 5276 5277 5278 5279 5280 5281 5282 5283 5284 5285 5286\n",
            " 5287 5288 5289 5290 5291 5292 5293 5294 5295 5296 5297 5298 5299 5300\n",
            " 5301 5302 5303 5304 5305 5306 5307 5308 5309 5310 5311 5312 5313 5314\n",
            " 5315 5316 5317 5318 5319 5320 5321 5322 5323 5324 5325 5326 5327 5328]\n",
            "\n"
          ]
        }
      ]
    },
    {
      "cell_type": "code",
      "execution_count": 242,
      "metadata": {
        "id": "YzAKG5t0Uat_"
      },
      "outputs": [],
      "source": [
        " "
      ]
    },
    {
      "cell_type": "code",
      "execution_count": 243,
      "metadata": {
        "id": "djerHQgeUat_",
        "colab": {
          "base_uri": "https://localhost:8080/",
          "height": 449
        },
        "outputId": "5e480e06-fed8-4bc4-c55e-7b50cb62a429"
      },
      "outputs": [
        {
          "output_type": "display_data",
          "data": {
            "image/png": "[encoded data removed]",
            "text/plain": [
              "<Figure size 720x504 with 1 Axes>"
            ]
          },
          "metadata": {}
        }
      ],
      "source": [
        "import pandas as pd\n",
        "import matplotlib.pyplot as plt\n",
        "\n",
        "pd.DataFrame(history.history)[['loss', 'val_loss']].plot(figsize=(10, 7))\n",
        "plt.grid(True)\n",
        "plt.gca().set_ylim(0, 1.2)\n",
        "plt.xlabel(\"épocas\")\n",
        "plt.show()"
      ]
    },
    {
      "cell_type": "markdown",
      "metadata": {
        "id": "53q30kaCUat_"
      },
      "source": [
        "## 7. Evaluación del modelo"
      ]
    },
    {
      "cell_type": "code",
      "execution_count": 246,
      "metadata": {
        "id": "ccxt_KeLUat_"
      },
      "outputs": [],
      "source": [
        "Y_pred = model.predict(X_test).round(0)"
      ]
    },
    {
      "cell_type": "code",
      "execution_count": 245,
      "metadata": {
        "id": "uUROsc-NUauA",
        "colab": {
          "base_uri": "https://localhost:8080/"
        },
        "outputId": "30a8905b-30da-4d14-bfa0-459abccb6208"
      },
      "outputs": [
        {
          "output_type": "stream",
          "name": "stdout",
          "text": [
            "Just happened a terrible car crash - [0.]\n",
            "Heard about earthquake is different cities stay safe everyone - [1.]\n",
            "there is a forest fire at spot pond geese are fleeing across the street I cannot save them all - [1.]\n",
            "Apocalypse lighting Spokane wildfires - [1.]\n",
            "Typhoon Soudelor kills 28 in China and Taiwan - [1.]\n",
            "Were shakingIts an earthquake - [1.]\n",
            "Theyd probably still show more life than Arsenal did yesterday eh EH - [0.]\n",
            "Hey How are you - [0.]\n",
            "What a nice hat - [0.]\n",
            "Fuck off - [0.]\n",
            "No I dont like cold - [0.]\n",
            "NOOOOOOOOO Dont do that - [0.]\n",
            "No dont tell me that - [0.]\n",
            "What if - [0.]\n",
            "Awesome - [0.]\n",
            "Birmingham Wholesale Market is ablaze BBC News  Fire breaks out at Birminghams Wholesale Market httptcoirWqCEZWEU - [1.]\n",
            "sunkxssedharry will you wear shorts for race ablaze  - [0.]\n",
            "PreviouslyOnDoyinTv Toke MakinwaÛªs marriage crisis sets Nigerian Twitter ablaze httptcoCMghxBa2XI - [1.]\n",
            "Check these out httptcorOI2NSmEJJ httptco3Tj8ZjiN21 httptcoYDUiXEfIpE httptcoLxTjc87KLS nsfw - [0.]\n",
            "PSA IÛªm splitting my personalities\n",
            "\n",
            " techies follow ablazeco\n",
            " Burners follow ablaze - [0.]\n",
            "beware world ablaze sierra leone amp guap - [0.]\n",
            "Burning Man Ablaze by Turban Diva httptcohodWosAmWS via Etsy - [0.]\n",
            "Not a diss song People will take 1 thing and run with it Smh its an eye opener though He is about 2 set the game ablaze CyhiThePrynce - [0.]\n",
            "Rape victim dies as she sets herself ablaze A 16yearold girl died of burn injuries as she set herself ablazeÛ httptcoUK8hNrbOob - [1.]\n",
            "SETTING MYSELF ABLAZE httptco6vMe7P5XhC - [0.]\n",
            "CTVToronto the bins in front of the field by my house wer set ablaze the other day flames went rite up the hydro pole wonder if it was him - [1.]\n",
            "nowplaying Alfons  Ablaze 2015 on Puls Radio pulsradio httptcoaA5BJgWfDv - [0.]\n",
            "Burning Rahm Lets hope City Hall builds a giant wooden mayoral effigy 100 feet tall amp sets it ablaze httptcokFo2mksn6Y JohnKass - [0.]\n",
            "PhilippaEilhart DhuBlath hurt but her eyes ablaze with insulted anger - [0.]\n",
            "Accident cleared in PaTurnpike on PATP EB between PA18 and Cranberry slow back to traffic httptcoSL0Oqn0Vyr - [1.]\n",
            "Just got to love burning your self on a damn curling wand I swear someone needs to take it away from me cuase Im just accident prone - [0.]\n",
            "I hate badging shit in accident - [1.]\n",
            "3 Car Recorder ZeroEdgeå¨ Duallens Car Camera Vehicle TrafficDriving HistoryAccident Camcorder  Large Re httptcokKFaSJv6Cj - [0.]\n",
            "Coincidence Or Curse Still Unresolved Secrets From Past httptco7VG8Df9pLE accident - [0.]\n",
            "TrafficSouthE roadpoleast Accident on A27 near Lewes is it Kingston Roundabout rather than A283 - [1.]\n",
            "sakumaen If you pretend to feel a certain way the feeling can become genuine all by accident Hei Darker than Black manga anime - [0.]\n",
            "For Legal and Medical Referral Service 1800Injured Call us at 180046587332 accident slipandfall dogbite - [0.]\n",
            "Theres a construction guy working on the Disney store and he has huge gauges in his ears  that is a bloody accident waiting to happen - [0.]\n",
            "RobynJilllian WlSDOMTEETHS I feel like Im going to do it on accident Teesha is gonna come out - [0.]\n",
            "On the M42 northbound between junctions J3 and J3A there are currently delays of 10 mins due to an accident c httptcoLwI3prBa31 - [1.]\n",
            "DaveOshry Soembie So if I say that I met her by accident this week would you be super jelly Dave p - [0.]\n",
            "ACCIDENT  HIT AND RUN  COLD at 500 BLOCK OF SE VISTA TER GRESHAM OR Gresham Police PG15000044357 1035 pdx911 - [0.]\n",
            "Calum5SOS this happened on accident but I like it httptcoQHmXuljSX9 - [0.]\n",
            "Please donate and spread the word A training accident left the polevaulter Kira GrÌnberg a paraplegic httptco6MpnyCl8PK - [1.]\n",
            "Please like and share our new page for our Indoor Trampoline Park Aftershock opening this fall httptcoUgXhHErrxS - [0.]\n",
            "bxckylynch foi no ROH Aftershock Las Vegas procura no pirate bay que tem - [0.]\n",
            "Schoolboy ÛÒ Aftershock Original Mix\n",
            "Excision amp Skism ÛÒ SEXisM Far Too Loud Remix\n",
            "Firebeatz Schella ÛÒ Dear New httptcoJQLzUA6YzQ - [0.]\n",
            "320 IR ICEMOON AFTERSHOCK  httptcoTHyzOMVWU0  djicemoon  Dubstep TrapMusic DnB EDM Dance IcesÛ httptco83jOO0xk29 - [0.]\n",
            "When the aftershock happened Nepal we were the last intl team still there in a way we were 1st responders Chief Collins LACoFD - [0.]\n",
            "320 IR ICEMOON AFTERSHOCK  httptcogRPeF7yAWG  djicemoon  Dubstep TrapMusic DnB EDM Dance IcesÛ httptcoGGmvzT58vE - [0.]\n",
            "Stop saying I Wish and start saying I Will ÛÒ Unknown - [0.]\n",
            "I want to go to Aftershock in October because it has all the bands I listen to and NXT Cant afford it yet though gradschoolapps - [0.]\n",
            "We are still living in the aftershock of Hiroshima people are still the scars of history  Edward Bond httptcoengTl5wrGp - [1.]\n",
            "320 IR ICEMOON AFTERSHOCK  httptcoTHyzOMVWU0  djicemoon  Dubstep TrapMusic DnB EDM Dance IcesÛ httptco83jOO0xk29 - [0.]\n",
            "Aftershock httpstcoEcy4U623nO - [0.]\n",
            "There is no victory at bargain basement prices Dwight David Eisenhower - [0.]\n",
            "Bo2 had by far the best competitive maps imo hope bo3 is the same InVahnWeTrust - [0.]\n",
            "Brass and Copper in Cataclysm amp AfterShock httptcouxYZyaygTy - [0.]\n",
            "JadeForMKX You should be happy I dont use Aftershock That variation counters your play style hard - [0.]\n",
            "Aftershock httpstco38Nhq9moEf - [0.]\n"
          ]
        }
      ],
      "source": [
        "for i in range(60):\n",
        "    print(\"{} - {}\".format(X_test_prep['text'][i], Y_pred[i]))"
      ]
    }
  ],
  "metadata": {
    "colab": {
      "collapsed_sections": [],
      "name": "Clasificacioión_de_Tweets_de_desastres_naturales.ipynb",
      "provenance": []
    },
    "kernelspec": {
      "display_name": "Python 3 (ipykernel)",
      "language": "python",
      "name": "python3"
    },
    "language_info": {
      "codemirror_mode": {
        "name": "ipython",
        "version": 3
      },
      "file_extension": ".py",
      "mimetype": "text/x-python",
      "name": "python",
      "nbconvert_exporter": "python",
      "pygments_lexer": "ipython3",
      "version": "3.9.7"
    }
  },
  "nbformat": 4,
  "nbformat_minor": 0
}